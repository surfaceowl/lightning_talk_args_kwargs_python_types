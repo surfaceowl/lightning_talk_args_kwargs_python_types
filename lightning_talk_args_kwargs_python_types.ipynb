{
 "cells": [
  {
   "cell_type": "code",
   "execution_count": 1,
   "id": "97914f12",
   "metadata": {
    "slideshow": {
     "slide_type": "skip"
    }
   },
   "outputs": [
    {
     "name": "stdout",
     "output_type": "stream",
     "text": [
      "\u001b[32m[I 14:33:14 InstallContribNbextensionsApp]\u001b[m jupyter contrib nbextension install --user\n",
      "\u001b[32m[I 14:33:14 InstallContribNbextensionsApp]\u001b[m Installing jupyter_contrib_nbextensions nbextension files to jupyter data directory\n",
      "\u001b[32m[I 14:33:14 InstallContribNbextensionsApp]\u001b[m Installing /home/chris/dev/lightning_talk_args_kwargs_python_types/venv/lib/python3.10/site-packages/jupyter_contrib_nbextensions/nbextensions/scratchpad -> scratchpad\n",
      "\u001b[32m[I 14:33:14 InstallContribNbextensionsApp]\u001b[m Up to date: /home/chris/.local/share/jupyter/nbextensions/scratchpad/LICENSE\n",
      "\u001b[32m[I 14:33:14 InstallContribNbextensionsApp]\u001b[m Up to date: /home/chris/.local/share/jupyter/nbextensions/scratchpad/README.md\n",
      "\u001b[32m[I 14:33:14 InstallContribNbextensionsApp]\u001b[m Up to date: /home/chris/.local/share/jupyter/nbextensions/scratchpad/scratchpad.yaml\n",
      "\u001b[32m[I 14:33:14 InstallContribNbextensionsApp]\u001b[m Up to date: /home/chris/.local/share/jupyter/nbextensions/scratchpad/scratchpad.css\n",
      "\u001b[32m[I 14:33:14 InstallContribNbextensionsApp]\u001b[m Up to date: /home/chris/.local/share/jupyter/nbextensions/scratchpad/main.js\n",
      "\u001b[32m[I 14:33:14 InstallContribNbextensionsApp]\u001b[m Up to date: /home/chris/.local/share/jupyter/nbextensions/scratchpad/demo.gif\n",
      "\u001b[32m[I 14:33:14 InstallContribNbextensionsApp]\u001b[m - Validating: \u001b[32mOK\u001b[0m\n",
      "\u001b[32m[I 14:33:14 InstallContribNbextensionsApp]\u001b[m Installing /home/chris/dev/lightning_talk_args_kwargs_python_types/venv/lib/python3.10/site-packages/jupyter_contrib_nbextensions/nbextensions/skip-traceback -> skip-traceback\n",
      "\u001b[32m[I 14:33:14 InstallContribNbextensionsApp]\u001b[m Up to date: /home/chris/.local/share/jupyter/nbextensions/skip-traceback/skip-traceback.png\n",
      "\u001b[32m[I 14:33:14 InstallContribNbextensionsApp]\u001b[m Up to date: /home/chris/.local/share/jupyter/nbextensions/skip-traceback/traceback.png\n",
      "\u001b[32m[I 14:33:14 InstallContribNbextensionsApp]\u001b[m Up to date: /home/chris/.local/share/jupyter/nbextensions/skip-traceback/main.js\n",
      "\u001b[32m[I 14:33:14 InstallContribNbextensionsApp]\u001b[m Up to date: /home/chris/.local/share/jupyter/nbextensions/skip-traceback/readme.md\n",
      "\u001b[32m[I 14:33:14 InstallContribNbextensionsApp]\u001b[m Up to date: /home/chris/.local/share/jupyter/nbextensions/skip-traceback/skip-traceback.yaml\n",
      "\u001b[32m[I 14:33:14 InstallContribNbextensionsApp]\u001b[m Up to date: /home/chris/.local/share/jupyter/nbextensions/skip-traceback/icon.png\n",
      "\u001b[32m[I 14:33:14 InstallContribNbextensionsApp]\u001b[m - Validating: \u001b[32mOK\u001b[0m\n",
      "\u001b[32m[I 14:33:14 InstallContribNbextensionsApp]\u001b[m Installing /home/chris/dev/lightning_talk_args_kwargs_python_types/venv/lib/python3.10/site-packages/jupyter_contrib_nbextensions/nbextensions/collapsible_headings -> collapsible_headings\n",
      "\u001b[32m[I 14:33:14 InstallContribNbextensionsApp]\u001b[m Up to date: /home/chris/.local/share/jupyter/nbextensions/collapsible_headings/collapsible_headings.yaml\n",
      "\u001b[32m[I 14:33:14 InstallContribNbextensionsApp]\u001b[m Up to date: /home/chris/.local/share/jupyter/nbextensions/collapsible_headings/main.css\n",
      "\u001b[32m[I 14:33:14 InstallContribNbextensionsApp]\u001b[m Up to date: /home/chris/.local/share/jupyter/nbextensions/collapsible_headings/screenshot.png\n",
      "\u001b[32m[I 14:33:14 InstallContribNbextensionsApp]\u001b[m Up to date: /home/chris/.local/share/jupyter/nbextensions/collapsible_headings/main.js\n",
      "\u001b[32m[I 14:33:14 InstallContribNbextensionsApp]\u001b[m Up to date: /home/chris/.local/share/jupyter/nbextensions/collapsible_headings/readme.md\n",
      "\u001b[32m[I 14:33:14 InstallContribNbextensionsApp]\u001b[m Up to date: /home/chris/.local/share/jupyter/nbextensions/collapsible_headings/icon.png\n",
      "\u001b[32m[I 14:33:14 InstallContribNbextensionsApp]\u001b[m - Validating: \u001b[32mOK\u001b[0m\n",
      "\u001b[32m[I 14:33:14 InstallContribNbextensionsApp]\u001b[m Installing /home/chris/dev/lightning_talk_args_kwargs_python_types/venv/lib/python3.10/site-packages/jupyter_contrib_nbextensions/nbextensions/select_keymap -> select_keymap\n",
      "\u001b[32m[I 14:33:14 InstallContribNbextensionsApp]\u001b[m Up to date: /home/chris/.local/share/jupyter/nbextensions/select_keymap/README.md\n",
      "\u001b[32m[I 14:33:14 InstallContribNbextensionsApp]\u001b[m Up to date: /home/chris/.local/share/jupyter/nbextensions/select_keymap/main.js\n",
      "\u001b[32m[I 14:33:14 InstallContribNbextensionsApp]\u001b[m Up to date: /home/chris/.local/share/jupyter/nbextensions/select_keymap/select_keymap.yaml\n",
      "\u001b[32m[I 14:33:14 InstallContribNbextensionsApp]\u001b[m Up to date: /home/chris/.local/share/jupyter/nbextensions/select_keymap/select_keymap.png\n",
      "\u001b[32m[I 14:33:14 InstallContribNbextensionsApp]\u001b[m - Validating: \u001b[32mOK\u001b[0m\n",
      "\u001b[32m[I 14:33:14 InstallContribNbextensionsApp]\u001b[m Installing /home/chris/dev/lightning_talk_args_kwargs_python_types/venv/lib/python3.10/site-packages/jupyter_contrib_nbextensions/nbextensions/help_panel -> help_panel\n",
      "\u001b[32m[I 14:33:14 InstallContribNbextensionsApp]\u001b[m Up to date: /home/chris/.local/share/jupyter/nbextensions/help_panel/help_panel_ext_fullscreen.png\n",
      "\u001b[32m[I 14:33:14 InstallContribNbextensionsApp]\u001b[m Up to date: /home/chris/.local/share/jupyter/nbextensions/help_panel/help_panel_ext.png\n",
      "\u001b[32m[I 14:33:14 InstallContribNbextensionsApp]\u001b[m Up to date: /home/chris/.local/share/jupyter/nbextensions/help_panel/help_panel.css\n",
      "\u001b[32m[I 14:33:14 InstallContribNbextensionsApp]\u001b[m Up to date: /home/chris/.local/share/jupyter/nbextensions/help_panel/readme.md\n",
      "\u001b[32m[I 14:33:14 InstallContribNbextensionsApp]\u001b[m Up to date: /home/chris/.local/share/jupyter/nbextensions/help_panel/help_panel.js\n",
      "\u001b[32m[I 14:33:14 InstallContribNbextensionsApp]\u001b[m Up to date: /home/chris/.local/share/jupyter/nbextensions/help_panel/icon.png\n",
      "\u001b[32m[I 14:33:14 InstallContribNbextensionsApp]\u001b[m Up to date: /home/chris/.local/share/jupyter/nbextensions/help_panel/help_panel.yaml\n",
      "\u001b[32m[I 14:33:14 InstallContribNbextensionsApp]\u001b[m Up to date: /home/chris/.local/share/jupyter/nbextensions/help_panel/img/handle-v.png\n",
      "\u001b[32m[I 14:33:14 InstallContribNbextensionsApp]\u001b[m - Validating: \u001b[32mOK\u001b[0m\n",
      "\u001b[32m[I 14:33:14 InstallContribNbextensionsApp]\u001b[m Installing /home/chris/dev/lightning_talk_args_kwargs_python_types/venv/lib/python3.10/site-packages/jupyter_contrib_nbextensions/nbextensions/table_beautifier -> table_beautifier\n",
      "\u001b[32m[I 14:33:14 InstallContribNbextensionsApp]\u001b[m Up to date: /home/chris/.local/share/jupyter/nbextensions/table_beautifier/README.md\n",
      "\u001b[32m[I 14:33:14 InstallContribNbextensionsApp]\u001b[m Up to date: /home/chris/.local/share/jupyter/nbextensions/table_beautifier/main.css\n",
      "\u001b[32m[I 14:33:14 InstallContribNbextensionsApp]\u001b[m Up to date: /home/chris/.local/share/jupyter/nbextensions/table_beautifier/main.js\n",
      "\u001b[32m[I 14:33:14 InstallContribNbextensionsApp]\u001b[m Up to date: /home/chris/.local/share/jupyter/nbextensions/table_beautifier/table_beautifier.yaml\n",
      "\u001b[32m[I 14:33:14 InstallContribNbextensionsApp]\u001b[m - Validating: \u001b[32mOK\u001b[0m\n",
      "\u001b[32m[I 14:33:14 InstallContribNbextensionsApp]\u001b[m Installing /home/chris/dev/lightning_talk_args_kwargs_python_types/venv/lib/python3.10/site-packages/jupyter_contrib_nbextensions/nbextensions/addbefore -> addbefore\n",
      "\u001b[32m[I 14:33:14 InstallContribNbextensionsApp]\u001b[m Up to date: /home/chris/.local/share/jupyter/nbextensions/addbefore/addbefore.yaml\n",
      "\u001b[32m[I 14:33:14 InstallContribNbextensionsApp]\u001b[m Up to date: /home/chris/.local/share/jupyter/nbextensions/addbefore/main.js\n",
      "\u001b[32m[I 14:33:14 InstallContribNbextensionsApp]\u001b[m Up to date: /home/chris/.local/share/jupyter/nbextensions/addbefore/readme.md\n",
      "\u001b[32m[I 14:33:14 InstallContribNbextensionsApp]\u001b[m Up to date: /home/chris/.local/share/jupyter/nbextensions/addbefore/icon.png\n",
      "\u001b[32m[I 14:33:14 InstallContribNbextensionsApp]\u001b[m - Validating: \u001b[32mOK\u001b[0m\n",
      "\u001b[32m[I 14:33:14 InstallContribNbextensionsApp]\u001b[m Installing /home/chris/dev/lightning_talk_args_kwargs_python_types/venv/lib/python3.10/site-packages/jupyter_contrib_nbextensions/nbextensions/exercise -> exercise\n",
      "\u001b[32m[I 14:33:14 InstallContribNbextensionsApp]\u001b[m Up to date: /home/chris/.local/share/jupyter/nbextensions/exercise/exercise.yaml\n",
      "\u001b[32m[I 14:33:14 InstallContribNbextensionsApp]\u001b[m Up to date: /home/chris/.local/share/jupyter/nbextensions/exercise/main.css\n",
      "\u001b[32m[I 14:33:14 InstallContribNbextensionsApp]\u001b[m Up to date: /home/chris/.local/share/jupyter/nbextensions/exercise/main.js\n",
      "\u001b[32m[I 14:33:14 InstallContribNbextensionsApp]\u001b[m Up to date: /home/chris/.local/share/jupyter/nbextensions/exercise/readme.md\n",
      "\u001b[32m[I 14:33:14 InstallContribNbextensionsApp]\u001b[m Up to date: /home/chris/.local/share/jupyter/nbextensions/exercise/history.md\n",
      "\u001b[32m[I 14:33:14 InstallContribNbextensionsApp]\u001b[m Up to date: /home/chris/.local/share/jupyter/nbextensions/exercise/icon.png\n",
      "\u001b[32m[I 14:33:14 InstallContribNbextensionsApp]\u001b[m Up to date: /home/chris/.local/share/jupyter/nbextensions/exercise/image.gif\n",
      "\u001b[32m[I 14:33:14 InstallContribNbextensionsApp]\u001b[m - Validating: \u001b[32mOK\u001b[0m\n",
      "\u001b[32m[I 14:33:14 InstallContribNbextensionsApp]\u001b[m Installing /home/chris/dev/lightning_talk_args_kwargs_python_types/venv/lib/python3.10/site-packages/jupyter_contrib_nbextensions/nbextensions/load_tex_macros -> load_tex_macros\n",
      "\u001b[32m[I 14:33:14 InstallContribNbextensionsApp]\u001b[m Up to date: /home/chris/.local/share/jupyter/nbextensions/load_tex_macros/main.js\n",
      "\u001b[32m[I 14:33:14 InstallContribNbextensionsApp]\u001b[m Up to date: /home/chris/.local/share/jupyter/nbextensions/load_tex_macros/readme.md\n",
      "\u001b[32m[I 14:33:14 InstallContribNbextensionsApp]\u001b[m Up to date: /home/chris/.local/share/jupyter/nbextensions/load_tex_macros/load_tex_macros.yaml\n",
      "\u001b[32m[I 14:33:14 InstallContribNbextensionsApp]\u001b[m Up to date: /home/chris/.local/share/jupyter/nbextensions/load_tex_macros/icon.png\n",
      "\u001b[32m[I 14:33:14 InstallContribNbextensionsApp]\u001b[m - Validating: \u001b[32mOK\u001b[0m\n",
      "\u001b[32m[I 14:33:14 InstallContribNbextensionsApp]\u001b[m Installing /home/chris/dev/lightning_talk_args_kwargs_python_types/venv/lib/python3.10/site-packages/jupyter_contrib_nbextensions/nbextensions/autoscroll -> autoscroll\n",
      "\u001b[32m[I 14:33:14 InstallContribNbextensionsApp]\u001b[m Up to date: /home/chris/.local/share/jupyter/nbextensions/autoscroll/README.md\n",
      "\u001b[32m[I 14:33:14 InstallContribNbextensionsApp]\u001b[m Up to date: /home/chris/.local/share/jupyter/nbextensions/autoscroll/main.js\n",
      "\u001b[32m[I 14:33:14 InstallContribNbextensionsApp]\u001b[m Up to date: /home/chris/.local/share/jupyter/nbextensions/autoscroll/icon.png\n",
      "\u001b[32m[I 14:33:14 InstallContribNbextensionsApp]\u001b[m Up to date: /home/chris/.local/share/jupyter/nbextensions/autoscroll/autoscroll.yaml\n",
      "\u001b[32m[I 14:33:14 InstallContribNbextensionsApp]\u001b[m - Validating: \u001b[32mOK\u001b[0m\n",
      "\u001b[32m[I 14:33:14 InstallContribNbextensionsApp]\u001b[m Installing /home/chris/dev/lightning_talk_args_kwargs_python_types/venv/lib/python3.10/site-packages/jupyter_contrib_nbextensions/nbextensions/rubberband -> rubberband\n",
      "\u001b[32m[I 14:33:14 InstallContribNbextensionsApp]\u001b[m Up to date: /home/chris/.local/share/jupyter/nbextensions/rubberband/main.css\n",
      "\u001b[32m[I 14:33:14 InstallContribNbextensionsApp]\u001b[m Up to date: /home/chris/.local/share/jupyter/nbextensions/rubberband/rubberband.yaml\n",
      "\u001b[32m[I 14:33:14 InstallContribNbextensionsApp]\u001b[m Up to date: /home/chris/.local/share/jupyter/nbextensions/rubberband/main.js\n",
      "\u001b[32m[I 14:33:14 InstallContribNbextensionsApp]\u001b[m Up to date: /home/chris/.local/share/jupyter/nbextensions/rubberband/readme.md\n",
      "\u001b[32m[I 14:33:14 InstallContribNbextensionsApp]\u001b[m Up to date: /home/chris/.local/share/jupyter/nbextensions/rubberband/icon.png\n",
      "\u001b[32m[I 14:33:14 InstallContribNbextensionsApp]\u001b[m - Validating: \u001b[32mOK\u001b[0m\n",
      "\u001b[32m[I 14:33:14 InstallContribNbextensionsApp]\u001b[m Installing /home/chris/dev/lightning_talk_args_kwargs_python_types/venv/lib/python3.10/site-packages/jupyter_contrib_nbextensions/nbextensions/qtconsole -> qtconsole\n",
      "\u001b[32m[I 14:33:14 InstallContribNbextensionsApp]\u001b[m Up to date: /home/chris/.local/share/jupyter/nbextensions/qtconsole/qtconsole.yaml\n",
      "\u001b[32m[I 14:33:14 InstallContribNbextensionsApp]\u001b[m Up to date: /home/chris/.local/share/jupyter/nbextensions/qtconsole/README.md\n",
      "\u001b[32m[I 14:33:14 InstallContribNbextensionsApp]\u001b[m Up to date: /home/chris/.local/share/jupyter/nbextensions/qtconsole/qtconsole.js\n",
      "\u001b[32m[I 14:33:14 InstallContribNbextensionsApp]\u001b[m - Validating: \u001b[32mOK\u001b[0m\n",
      "\u001b[32m[I 14:33:14 InstallContribNbextensionsApp]\u001b[m Installing /home/chris/dev/lightning_talk_args_kwargs_python_types/venv/lib/python3.10/site-packages/jupyter_contrib_nbextensions/nbextensions/gist_it -> gist_it\n",
      "\u001b[32m[I 14:33:14 InstallContribNbextensionsApp]\u001b[m Up to date: /home/chris/.local/share/jupyter/nbextensions/gist_it/main.js\n",
      "\u001b[32m[I 14:33:14 InstallContribNbextensionsApp]\u001b[m Up to date: /home/chris/.local/share/jupyter/nbextensions/gist_it/readme.md\n",
      "\u001b[32m[I 14:33:14 InstallContribNbextensionsApp]\u001b[m Up to date: /home/chris/.local/share/jupyter/nbextensions/gist_it/gist_it.yaml\n",
      "\u001b[32m[I 14:33:14 InstallContribNbextensionsApp]\u001b[m Up to date: /home/chris/.local/share/jupyter/nbextensions/gist_it/icon.png\n",
      "\u001b[32m[I 14:33:14 InstallContribNbextensionsApp]\u001b[m - Validating: \u001b[32mOK\u001b[0m\n",
      "\u001b[32m[I 14:33:14 InstallContribNbextensionsApp]\u001b[m Installing /home/chris/dev/lightning_talk_args_kwargs_python_types/venv/lib/python3.10/site-packages/jupyter_contrib_nbextensions/nbextensions/varInspector -> varInspector\n",
      "\u001b[32m[I 14:33:14 InstallContribNbextensionsApp]\u001b[m Up to date: /home/chris/.local/share/jupyter/nbextensions/varInspector/var_list.py\n",
      "\u001b[32m[I 14:33:14 InstallContribNbextensionsApp]\u001b[m Up to date: /home/chris/.local/share/jupyter/nbextensions/varInspector/README.md\n",
      "\u001b[32m[I 14:33:14 InstallContribNbextensionsApp]\u001b[m Up to date: /home/chris/.local/share/jupyter/nbextensions/varInspector/varInspector.yaml\n",
      "\u001b[32m[I 14:33:14 InstallContribNbextensionsApp]\u001b[m Up to date: /home/chris/.local/share/jupyter/nbextensions/varInspector/main.css\n",
      "\u001b[32m[I 14:33:14 InstallContribNbextensionsApp]\u001b[m Up to date: /home/chris/.local/share/jupyter/nbextensions/varInspector/var_list.r\n",
      "\u001b[32m[I 14:33:14 InstallContribNbextensionsApp]\u001b[m Up to date: /home/chris/.local/share/jupyter/nbextensions/varInspector/main.js\n",
      "\u001b[32m[I 14:33:14 InstallContribNbextensionsApp]\u001b[m Up to date: /home/chris/.local/share/jupyter/nbextensions/varInspector/tablesorter_LICENSE.txt\n",
      "\u001b[32m[I 14:33:14 InstallContribNbextensionsApp]\u001b[m Up to date: /home/chris/.local/share/jupyter/nbextensions/varInspector/icon.png\n",
      "\u001b[32m[I 14:33:14 InstallContribNbextensionsApp]\u001b[m Up to date: /home/chris/.local/share/jupyter/nbextensions/varInspector/demo.gif\n",
      "\u001b[32m[I 14:33:14 InstallContribNbextensionsApp]\u001b[m Up to date: /home/chris/.local/share/jupyter/nbextensions/varInspector/jquery.tablesorter.min.js\n",
      "\u001b[32m[I 14:33:14 InstallContribNbextensionsApp]\u001b[m Up to date: /home/chris/.local/share/jupyter/nbextensions/varInspector/__pycache__/var_list.cpython-310.pyc\n",
      "\u001b[32m[I 14:33:14 InstallContribNbextensionsApp]\u001b[m - Validating: \u001b[32mOK\u001b[0m\n",
      "\u001b[32m[I 14:33:14 InstallContribNbextensionsApp]\u001b[m Installing /home/chris/dev/lightning_talk_args_kwargs_python_types/venv/lib/python3.10/site-packages/jupyter_contrib_nbextensions/nbextensions/hide_input_all -> hide_input_all\n",
      "\u001b[32m[I 14:33:14 InstallContribNbextensionsApp]\u001b[m Up to date: /home/chris/.local/share/jupyter/nbextensions/hide_input_all/hide_input_all.yaml\n",
      "\u001b[32m[I 14:33:14 InstallContribNbextensionsApp]\u001b[m Up to date: /home/chris/.local/share/jupyter/nbextensions/hide_input_all/hide_input_all_hide.png\n",
      "\u001b[32m[I 14:33:14 InstallContribNbextensionsApp]\u001b[m Up to date: /home/chris/.local/share/jupyter/nbextensions/hide_input_all/main.js\n",
      "\u001b[32m[I 14:33:14 InstallContribNbextensionsApp]\u001b[m Up to date: /home/chris/.local/share/jupyter/nbextensions/hide_input_all/hide_input_all_show.png\n",
      "\u001b[32m[I 14:33:14 InstallContribNbextensionsApp]\u001b[m Up to date: /home/chris/.local/share/jupyter/nbextensions/hide_input_all/readme.md\n",
      "\u001b[32m[I 14:33:14 InstallContribNbextensionsApp]\u001b[m Up to date: /home/chris/.local/share/jupyter/nbextensions/hide_input_all/icon.png\n",
      "\u001b[32m[I 14:33:14 InstallContribNbextensionsApp]\u001b[m - Validating: \u001b[32mOK\u001b[0m\n",
      "\u001b[32m[I 14:33:14 InstallContribNbextensionsApp]\u001b[m Installing /home/chris/dev/lightning_talk_args_kwargs_python_types/venv/lib/python3.10/site-packages/jupyter_contrib_nbextensions/nbextensions/datestamper -> datestamper\n",
      "\u001b[32m[I 14:33:14 InstallContribNbextensionsApp]\u001b[m Up to date: /home/chris/.local/share/jupyter/nbextensions/datestamper/main.js\n",
      "\u001b[32m[I 14:33:14 InstallContribNbextensionsApp]\u001b[m Up to date: /home/chris/.local/share/jupyter/nbextensions/datestamper/readme.md\n",
      "\u001b[32m[I 14:33:14 InstallContribNbextensionsApp]\u001b[m Up to date: /home/chris/.local/share/jupyter/nbextensions/datestamper/icon.png\n",
      "\u001b[32m[I 14:33:14 InstallContribNbextensionsApp]\u001b[m Up to date: /home/chris/.local/share/jupyter/nbextensions/datestamper/main.yaml\n",
      "\u001b[32m[I 14:33:14 InstallContribNbextensionsApp]\u001b[m - Validating: \u001b[32mOK\u001b[0m\n",
      "\u001b[32m[I 14:33:14 InstallContribNbextensionsApp]\u001b[m Installing /home/chris/dev/lightning_talk_args_kwargs_python_types/venv/lib/python3.10/site-packages/jupyter_contrib_nbextensions/nbextensions/hinterland -> hinterland\n",
      "\u001b[32m[I 14:33:14 InstallContribNbextensionsApp]\u001b[m Up to date: /home/chris/.local/share/jupyter/nbextensions/hinterland/README.md\n",
      "\u001b[32m[I 14:33:14 InstallContribNbextensionsApp]\u001b[m Up to date: /home/chris/.local/share/jupyter/nbextensions/hinterland/hinterland.yaml\n",
      "\u001b[32m[I 14:33:14 InstallContribNbextensionsApp]\u001b[m Up to date: /home/chris/.local/share/jupyter/nbextensions/hinterland/hinterland.js\n",
      "\u001b[32m[I 14:33:14 InstallContribNbextensionsApp]\u001b[m - Validating: \u001b[32mOK\u001b[0m\n",
      "\u001b[32m[I 14:33:14 InstallContribNbextensionsApp]\u001b[m Installing /home/chris/dev/lightning_talk_args_kwargs_python_types/venv/lib/python3.10/site-packages/jupyter_contrib_nbextensions/nbextensions/splitcell -> splitcell\n",
      "\u001b[32m[I 14:33:14 InstallContribNbextensionsApp]\u001b[m Up to date: /home/chris/.local/share/jupyter/nbextensions/splitcell/splitcell.js\n",
      "\u001b[32m[I 14:33:14 InstallContribNbextensionsApp]\u001b[m Up to date: /home/chris/.local/share/jupyter/nbextensions/splitcell/readme.md\n",
      "\u001b[32m[I 14:33:14 InstallContribNbextensionsApp]\u001b[m Up to date: /home/chris/.local/share/jupyter/nbextensions/splitcell/splitcell.yaml\n",
      "\u001b[32m[I 14:33:14 InstallContribNbextensionsApp]\u001b[m Up to date: /home/chris/.local/share/jupyter/nbextensions/splitcell/icon.png\n",
      "\u001b[32m[I 14:33:14 InstallContribNbextensionsApp]\u001b[m - Validating: \u001b[32mOK\u001b[0m\n",
      "\u001b[32m[I 14:33:14 InstallContribNbextensionsApp]\u001b[m Installing /home/chris/dev/lightning_talk_args_kwargs_python_types/venv/lib/python3.10/site-packages/jupyter_contrib_nbextensions/nbextensions/hide_header -> hide_header\n",
      "\u001b[32m[I 14:33:14 InstallContribNbextensionsApp]\u001b[m Up to date: /home/chris/.local/share/jupyter/nbextensions/hide_header/README.md\n",
      "\u001b[32m[I 14:33:14 InstallContribNbextensionsApp]\u001b[m Up to date: /home/chris/.local/share/jupyter/nbextensions/hide_header/main.js\n",
      "\u001b[32m[I 14:33:14 InstallContribNbextensionsApp]\u001b[m Up to date: /home/chris/.local/share/jupyter/nbextensions/hide_header/hide_header.yaml\n",
      "\u001b[32m[I 14:33:14 InstallContribNbextensionsApp]\u001b[m - Validating: \u001b[32mOK\u001b[0m\n",
      "\u001b[32m[I 14:33:14 InstallContribNbextensionsApp]\u001b[m Installing /home/chris/dev/lightning_talk_args_kwargs_python_types/venv/lib/python3.10/site-packages/jupyter_contrib_nbextensions/nbextensions/codefolding -> codefolding\n",
      "\u001b[32m[I 14:33:14 InstallContribNbextensionsApp]\u001b[m Up to date: /home/chris/.local/share/jupyter/nbextensions/codefolding/magic-unfolded.png\n",
      "\u001b[32m[I 14:33:14 InstallContribNbextensionsApp]\u001b[m Up to date: /home/chris/.local/share/jupyter/nbextensions/codefolding/magic-folded.png\n",
      "\u001b[32m[I 14:33:14 InstallContribNbextensionsApp]\u001b[m Up to date: /home/chris/.local/share/jupyter/nbextensions/codefolding/firstline-fold.js\n",
      "\u001b[32m[I 14:33:14 InstallContribNbextensionsApp]\u001b[m Up to date: /home/chris/.local/share/jupyter/nbextensions/codefolding/codefolding_editor.yaml\n",
      "\u001b[32m[I 14:33:14 InstallContribNbextensionsApp]\u001b[m Up to date: /home/chris/.local/share/jupyter/nbextensions/codefolding/codefolding.yaml\n",
      "\u001b[32m[I 14:33:14 InstallContribNbextensionsApp]\u001b[m Up to date: /home/chris/.local/share/jupyter/nbextensions/codefolding/codefolding_indent_folded_1.png\n",
      "\u001b[32m[I 14:33:14 InstallContribNbextensionsApp]\u001b[m Up to date: /home/chris/.local/share/jupyter/nbextensions/codefolding/main.js\n",
      "\u001b[32m[I 14:33:14 InstallContribNbextensionsApp]\u001b[m Up to date: /home/chris/.local/share/jupyter/nbextensions/codefolding/magic-fold.js\n",
      "\u001b[32m[I 14:33:14 InstallContribNbextensionsApp]\u001b[m Up to date: /home/chris/.local/share/jupyter/nbextensions/codefolding/codefolding_editor.png\n",
      "\u001b[32m[I 14:33:14 InstallContribNbextensionsApp]\u001b[m Up to date: /home/chris/.local/share/jupyter/nbextensions/codefolding/readme.md\n",
      "\u001b[32m[I 14:33:14 InstallContribNbextensionsApp]\u001b[m Up to date: /home/chris/.local/share/jupyter/nbextensions/codefolding/codefolding_indent_unfolded.png\n",
      "\u001b[32m[I 14:33:14 InstallContribNbextensionsApp]\u001b[m Up to date: /home/chris/.local/share/jupyter/nbextensions/codefolding/icon.png\n",
      "\u001b[32m[I 14:33:14 InstallContribNbextensionsApp]\u001b[m Up to date: /home/chris/.local/share/jupyter/nbextensions/codefolding/edit.js\n",
      "\u001b[32m[I 14:33:14 InstallContribNbextensionsApp]\u001b[m Up to date: /home/chris/.local/share/jupyter/nbextensions/codefolding/foldgutter.css\n",
      "\u001b[32m[I 14:33:14 InstallContribNbextensionsApp]\u001b[m Up to date: /home/chris/.local/share/jupyter/nbextensions/codefolding/codefolding_firstline_folded.png\n",
      "\u001b[32m[I 14:33:14 InstallContribNbextensionsApp]\u001b[m Up to date: /home/chris/.local/share/jupyter/nbextensions/codefolding/codefolding_firstline_unfolded.png\n",
      "\u001b[32m[I 14:33:14 InstallContribNbextensionsApp]\u001b[m Up to date: /home/chris/.local/share/jupyter/nbextensions/codefolding/codefolding_indent_folded_2.png\n",
      "\u001b[32m[I 14:33:14 InstallContribNbextensionsApp]\u001b[m - Validating: \u001b[32mOK\u001b[0m\n",
      "\u001b[32m[I 14:33:14 InstallContribNbextensionsApp]\u001b[m Installing /home/chris/dev/lightning_talk_args_kwargs_python_types/venv/lib/python3.10/site-packages/jupyter_contrib_nbextensions/nbextensions/codefolding -> codefolding\n",
      "\u001b[32m[I 14:33:14 InstallContribNbextensionsApp]\u001b[m Up to date: /home/chris/.local/share/jupyter/nbextensions/codefolding/magic-unfolded.png\n",
      "\u001b[32m[I 14:33:14 InstallContribNbextensionsApp]\u001b[m Up to date: /home/chris/.local/share/jupyter/nbextensions/codefolding/magic-folded.png\n",
      "\u001b[32m[I 14:33:14 InstallContribNbextensionsApp]\u001b[m Up to date: /home/chris/.local/share/jupyter/nbextensions/codefolding/firstline-fold.js\n",
      "\u001b[32m[I 14:33:14 InstallContribNbextensionsApp]\u001b[m Up to date: /home/chris/.local/share/jupyter/nbextensions/codefolding/codefolding_editor.yaml\n",
      "\u001b[32m[I 14:33:14 InstallContribNbextensionsApp]\u001b[m Up to date: /home/chris/.local/share/jupyter/nbextensions/codefolding/codefolding.yaml\n",
      "\u001b[32m[I 14:33:14 InstallContribNbextensionsApp]\u001b[m Up to date: /home/chris/.local/share/jupyter/nbextensions/codefolding/codefolding_indent_folded_1.png\n",
      "\u001b[32m[I 14:33:14 InstallContribNbextensionsApp]\u001b[m Up to date: /home/chris/.local/share/jupyter/nbextensions/codefolding/main.js\n",
      "\u001b[32m[I 14:33:14 InstallContribNbextensionsApp]\u001b[m Up to date: /home/chris/.local/share/jupyter/nbextensions/codefolding/magic-fold.js\n",
      "\u001b[32m[I 14:33:14 InstallContribNbextensionsApp]\u001b[m Up to date: /home/chris/.local/share/jupyter/nbextensions/codefolding/codefolding_editor.png\n",
      "\u001b[32m[I 14:33:14 InstallContribNbextensionsApp]\u001b[m Up to date: /home/chris/.local/share/jupyter/nbextensions/codefolding/readme.md\n",
      "\u001b[32m[I 14:33:14 InstallContribNbextensionsApp]\u001b[m Up to date: /home/chris/.local/share/jupyter/nbextensions/codefolding/codefolding_indent_unfolded.png\n",
      "\u001b[32m[I 14:33:14 InstallContribNbextensionsApp]\u001b[m Up to date: /home/chris/.local/share/jupyter/nbextensions/codefolding/icon.png\n",
      "\u001b[32m[I 14:33:14 InstallContribNbextensionsApp]\u001b[m Up to date: /home/chris/.local/share/jupyter/nbextensions/codefolding/edit.js\n",
      "\u001b[32m[I 14:33:14 InstallContribNbextensionsApp]\u001b[m Up to date: /home/chris/.local/share/jupyter/nbextensions/codefolding/foldgutter.css\n",
      "\u001b[32m[I 14:33:14 InstallContribNbextensionsApp]\u001b[m Up to date: /home/chris/.local/share/jupyter/nbextensions/codefolding/codefolding_firstline_folded.png\n",
      "\u001b[32m[I 14:33:14 InstallContribNbextensionsApp]\u001b[m Up to date: /home/chris/.local/share/jupyter/nbextensions/codefolding/codefolding_firstline_unfolded.png\n",
      "\u001b[32m[I 14:33:14 InstallContribNbextensionsApp]\u001b[m Up to date: /home/chris/.local/share/jupyter/nbextensions/codefolding/codefolding_indent_folded_2.png\n",
      "\u001b[32m[I 14:33:14 InstallContribNbextensionsApp]\u001b[m - Validating: \u001b[32mOK\u001b[0m\n",
      "\u001b[32m[I 14:33:14 InstallContribNbextensionsApp]\u001b[m Installing /home/chris/dev/lightning_talk_args_kwargs_python_types/venv/lib/python3.10/site-packages/jupyter_contrib_nbextensions/nbextensions/code_prettify -> code_prettify\n",
      "\u001b[32m[I 14:33:14 InstallContribNbextensionsApp]\u001b[m Up to date: /home/chris/.local/share/jupyter/nbextensions/code_prettify/kernel_exec_on_cell.js\n",
      "\u001b[32m[I 14:33:14 InstallContribNbextensionsApp]\u001b[m Up to date: /home/chris/.local/share/jupyter/nbextensions/code_prettify/README_isort.md\n",
      "\u001b[32m[I 14:33:14 InstallContribNbextensionsApp]\u001b[m Up to date: /home/chris/.local/share/jupyter/nbextensions/code_prettify/autopep8.js\n",
      "\u001b[32m[I 14:33:14 InstallContribNbextensionsApp]\u001b[m Up to date: /home/chris/.local/share/jupyter/nbextensions/code_prettify/demo-py.gif\n",
      "\u001b[32m[I 14:33:14 InstallContribNbextensionsApp]\u001b[m Up to date: /home/chris/.local/share/jupyter/nbextensions/code_prettify/demo_2to3.gif\n",
      "\u001b[32m[I 14:33:14 InstallContribNbextensionsApp]\u001b[m Up to date: /home/chris/.local/share/jupyter/nbextensions/code_prettify/README.md\n",
      "\u001b[32m[I 14:33:14 InstallContribNbextensionsApp]\u001b[m Up to date: /home/chris/.local/share/jupyter/nbextensions/code_prettify/2to3.js\n",
      "\u001b[32m[I 14:33:14 InstallContribNbextensionsApp]\u001b[m Up to date: /home/chris/.local/share/jupyter/nbextensions/code_prettify/demo-jv.gif\n",
      "\u001b[32m[I 14:33:14 InstallContribNbextensionsApp]\u001b[m Up to date: /home/chris/.local/share/jupyter/nbextensions/code_prettify/README_code_prettify.md\n",
      "\u001b[32m[I 14:33:14 InstallContribNbextensionsApp]\u001b[m Up to date: /home/chris/.local/share/jupyter/nbextensions/code_prettify/isort.yaml\n",
      "\u001b[32m[I 14:33:14 InstallContribNbextensionsApp]\u001b[m Up to date: /home/chris/.local/share/jupyter/nbextensions/code_prettify/README_autopep8.md\n",
      "\u001b[32m[I 14:33:14 InstallContribNbextensionsApp]\u001b[m Up to date: /home/chris/.local/share/jupyter/nbextensions/code_prettify/demo-R.gif\n",
      "\u001b[32m[I 14:33:14 InstallContribNbextensionsApp]\u001b[m Up to date: /home/chris/.local/share/jupyter/nbextensions/code_prettify/code_prettify.js\n",
      "\u001b[32m[I 14:33:14 InstallContribNbextensionsApp]\u001b[m Up to date: /home/chris/.local/share/jupyter/nbextensions/code_prettify/isort.js\n",
      "\u001b[32m[I 14:33:14 InstallContribNbextensionsApp]\u001b[m Up to date: /home/chris/.local/share/jupyter/nbextensions/code_prettify/code_prettify.yaml\n",
      "\u001b[32m[I 14:33:14 InstallContribNbextensionsApp]\u001b[m Up to date: /home/chris/.local/share/jupyter/nbextensions/code_prettify/README_2to3.md\n",
      "\u001b[32m[I 14:33:14 InstallContribNbextensionsApp]\u001b[m Up to date: /home/chris/.local/share/jupyter/nbextensions/code_prettify/2to3.yaml\n",
      "\u001b[32m[I 14:33:14 InstallContribNbextensionsApp]\u001b[m Up to date: /home/chris/.local/share/jupyter/nbextensions/code_prettify/autopep8.yaml\n",
      "\u001b[32m[I 14:33:14 InstallContribNbextensionsApp]\u001b[m - Validating: \u001b[32mOK\u001b[0m\n",
      "\u001b[32m[I 14:33:14 InstallContribNbextensionsApp]\u001b[m Installing /home/chris/dev/lightning_talk_args_kwargs_python_types/venv/lib/python3.10/site-packages/jupyter_contrib_nbextensions/nbextensions/code_prettify -> code_prettify\n",
      "\u001b[32m[I 14:33:14 InstallContribNbextensionsApp]\u001b[m Up to date: /home/chris/.local/share/jupyter/nbextensions/code_prettify/kernel_exec_on_cell.js\n",
      "\u001b[32m[I 14:33:14 InstallContribNbextensionsApp]\u001b[m Up to date: /home/chris/.local/share/jupyter/nbextensions/code_prettify/README_isort.md\n",
      "\u001b[32m[I 14:33:14 InstallContribNbextensionsApp]\u001b[m Up to date: /home/chris/.local/share/jupyter/nbextensions/code_prettify/autopep8.js\n",
      "\u001b[32m[I 14:33:14 InstallContribNbextensionsApp]\u001b[m Up to date: /home/chris/.local/share/jupyter/nbextensions/code_prettify/demo-py.gif\n",
      "\u001b[32m[I 14:33:14 InstallContribNbextensionsApp]\u001b[m Up to date: /home/chris/.local/share/jupyter/nbextensions/code_prettify/demo_2to3.gif\n",
      "\u001b[32m[I 14:33:14 InstallContribNbextensionsApp]\u001b[m Up to date: /home/chris/.local/share/jupyter/nbextensions/code_prettify/README.md\n",
      "\u001b[32m[I 14:33:14 InstallContribNbextensionsApp]\u001b[m Up to date: /home/chris/.local/share/jupyter/nbextensions/code_prettify/2to3.js\n",
      "\u001b[32m[I 14:33:14 InstallContribNbextensionsApp]\u001b[m Up to date: /home/chris/.local/share/jupyter/nbextensions/code_prettify/demo-jv.gif\n",
      "\u001b[32m[I 14:33:14 InstallContribNbextensionsApp]\u001b[m Up to date: /home/chris/.local/share/jupyter/nbextensions/code_prettify/README_code_prettify.md\n",
      "\u001b[32m[I 14:33:14 InstallContribNbextensionsApp]\u001b[m Up to date: /home/chris/.local/share/jupyter/nbextensions/code_prettify/isort.yaml\n",
      "\u001b[32m[I 14:33:14 InstallContribNbextensionsApp]\u001b[m Up to date: /home/chris/.local/share/jupyter/nbextensions/code_prettify/README_autopep8.md\n",
      "\u001b[32m[I 14:33:14 InstallContribNbextensionsApp]\u001b[m Up to date: /home/chris/.local/share/jupyter/nbextensions/code_prettify/demo-R.gif\n",
      "\u001b[32m[I 14:33:14 InstallContribNbextensionsApp]\u001b[m Up to date: /home/chris/.local/share/jupyter/nbextensions/code_prettify/code_prettify.js\n",
      "\u001b[32m[I 14:33:14 InstallContribNbextensionsApp]\u001b[m Up to date: /home/chris/.local/share/jupyter/nbextensions/code_prettify/isort.js\n",
      "\u001b[32m[I 14:33:14 InstallContribNbextensionsApp]\u001b[m Up to date: /home/chris/.local/share/jupyter/nbextensions/code_prettify/code_prettify.yaml\n",
      "\u001b[32m[I 14:33:14 InstallContribNbextensionsApp]\u001b[m Up to date: /home/chris/.local/share/jupyter/nbextensions/code_prettify/README_2to3.md\n",
      "\u001b[32m[I 14:33:14 InstallContribNbextensionsApp]\u001b[m Up to date: /home/chris/.local/share/jupyter/nbextensions/code_prettify/2to3.yaml\n",
      "\u001b[32m[I 14:33:14 InstallContribNbextensionsApp]\u001b[m Up to date: /home/chris/.local/share/jupyter/nbextensions/code_prettify/autopep8.yaml\n",
      "\u001b[32m[I 14:33:14 InstallContribNbextensionsApp]\u001b[m - Validating: \u001b[32mOK\u001b[0m\n",
      "\u001b[32m[I 14:33:14 InstallContribNbextensionsApp]\u001b[m Installing /home/chris/dev/lightning_talk_args_kwargs_python_types/venv/lib/python3.10/site-packages/jupyter_contrib_nbextensions/nbextensions/code_prettify -> code_prettify\n",
      "\u001b[32m[I 14:33:14 InstallContribNbextensionsApp]\u001b[m Up to date: /home/chris/.local/share/jupyter/nbextensions/code_prettify/kernel_exec_on_cell.js\n",
      "\u001b[32m[I 14:33:14 InstallContribNbextensionsApp]\u001b[m Up to date: /home/chris/.local/share/jupyter/nbextensions/code_prettify/README_isort.md\n",
      "\u001b[32m[I 14:33:14 InstallContribNbextensionsApp]\u001b[m Up to date: /home/chris/.local/share/jupyter/nbextensions/code_prettify/autopep8.js\n",
      "\u001b[32m[I 14:33:14 InstallContribNbextensionsApp]\u001b[m Up to date: /home/chris/.local/share/jupyter/nbextensions/code_prettify/demo-py.gif\n",
      "\u001b[32m[I 14:33:14 InstallContribNbextensionsApp]\u001b[m Up to date: /home/chris/.local/share/jupyter/nbextensions/code_prettify/demo_2to3.gif\n",
      "\u001b[32m[I 14:33:14 InstallContribNbextensionsApp]\u001b[m Up to date: /home/chris/.local/share/jupyter/nbextensions/code_prettify/README.md\n",
      "\u001b[32m[I 14:33:14 InstallContribNbextensionsApp]\u001b[m Up to date: /home/chris/.local/share/jupyter/nbextensions/code_prettify/2to3.js\n",
      "\u001b[32m[I 14:33:14 InstallContribNbextensionsApp]\u001b[m Up to date: /home/chris/.local/share/jupyter/nbextensions/code_prettify/demo-jv.gif\n",
      "\u001b[32m[I 14:33:14 InstallContribNbextensionsApp]\u001b[m Up to date: /home/chris/.local/share/jupyter/nbextensions/code_prettify/README_code_prettify.md\n",
      "\u001b[32m[I 14:33:14 InstallContribNbextensionsApp]\u001b[m Up to date: /home/chris/.local/share/jupyter/nbextensions/code_prettify/isort.yaml\n",
      "\u001b[32m[I 14:33:14 InstallContribNbextensionsApp]\u001b[m Up to date: /home/chris/.local/share/jupyter/nbextensions/code_prettify/README_autopep8.md\n",
      "\u001b[32m[I 14:33:14 InstallContribNbextensionsApp]\u001b[m Up to date: /home/chris/.local/share/jupyter/nbextensions/code_prettify/demo-R.gif\n",
      "\u001b[32m[I 14:33:14 InstallContribNbextensionsApp]\u001b[m Up to date: /home/chris/.local/share/jupyter/nbextensions/code_prettify/code_prettify.js\n",
      "\u001b[32m[I 14:33:14 InstallContribNbextensionsApp]\u001b[m Up to date: /home/chris/.local/share/jupyter/nbextensions/code_prettify/isort.js\n",
      "\u001b[32m[I 14:33:14 InstallContribNbextensionsApp]\u001b[m Up to date: /home/chris/.local/share/jupyter/nbextensions/code_prettify/code_prettify.yaml\n",
      "\u001b[32m[I 14:33:14 InstallContribNbextensionsApp]\u001b[m Up to date: /home/chris/.local/share/jupyter/nbextensions/code_prettify/README_2to3.md\n",
      "\u001b[32m[I 14:33:14 InstallContribNbextensionsApp]\u001b[m Up to date: /home/chris/.local/share/jupyter/nbextensions/code_prettify/2to3.yaml\n",
      "\u001b[32m[I 14:33:14 InstallContribNbextensionsApp]\u001b[m Up to date: /home/chris/.local/share/jupyter/nbextensions/code_prettify/autopep8.yaml\n",
      "\u001b[32m[I 14:33:14 InstallContribNbextensionsApp]\u001b[m - Validating: \u001b[32mOK\u001b[0m\n",
      "\u001b[32m[I 14:33:14 InstallContribNbextensionsApp]\u001b[m Installing /home/chris/dev/lightning_talk_args_kwargs_python_types/venv/lib/python3.10/site-packages/jupyter_contrib_nbextensions/nbextensions/code_prettify -> code_prettify\n",
      "\u001b[32m[I 14:33:14 InstallContribNbextensionsApp]\u001b[m Up to date: /home/chris/.local/share/jupyter/nbextensions/code_prettify/kernel_exec_on_cell.js\n",
      "\u001b[32m[I 14:33:14 InstallContribNbextensionsApp]\u001b[m Up to date: /home/chris/.local/share/jupyter/nbextensions/code_prettify/README_isort.md\n",
      "\u001b[32m[I 14:33:14 InstallContribNbextensionsApp]\u001b[m Up to date: /home/chris/.local/share/jupyter/nbextensions/code_prettify/autopep8.js\n",
      "\u001b[32m[I 14:33:14 InstallContribNbextensionsApp]\u001b[m Up to date: /home/chris/.local/share/jupyter/nbextensions/code_prettify/demo-py.gif\n",
      "\u001b[32m[I 14:33:14 InstallContribNbextensionsApp]\u001b[m Up to date: /home/chris/.local/share/jupyter/nbextensions/code_prettify/demo_2to3.gif\n",
      "\u001b[32m[I 14:33:14 InstallContribNbextensionsApp]\u001b[m Up to date: /home/chris/.local/share/jupyter/nbextensions/code_prettify/README.md\n",
      "\u001b[32m[I 14:33:14 InstallContribNbextensionsApp]\u001b[m Up to date: /home/chris/.local/share/jupyter/nbextensions/code_prettify/2to3.js\n",
      "\u001b[32m[I 14:33:14 InstallContribNbextensionsApp]\u001b[m Up to date: /home/chris/.local/share/jupyter/nbextensions/code_prettify/demo-jv.gif\n",
      "\u001b[32m[I 14:33:14 InstallContribNbextensionsApp]\u001b[m Up to date: /home/chris/.local/share/jupyter/nbextensions/code_prettify/README_code_prettify.md\n",
      "\u001b[32m[I 14:33:14 InstallContribNbextensionsApp]\u001b[m Up to date: /home/chris/.local/share/jupyter/nbextensions/code_prettify/isort.yaml\n",
      "\u001b[32m[I 14:33:14 InstallContribNbextensionsApp]\u001b[m Up to date: /home/chris/.local/share/jupyter/nbextensions/code_prettify/README_autopep8.md\n",
      "\u001b[32m[I 14:33:14 InstallContribNbextensionsApp]\u001b[m Up to date: /home/chris/.local/share/jupyter/nbextensions/code_prettify/demo-R.gif\n",
      "\u001b[32m[I 14:33:14 InstallContribNbextensionsApp]\u001b[m Up to date: /home/chris/.local/share/jupyter/nbextensions/code_prettify/code_prettify.js\n",
      "\u001b[32m[I 14:33:14 InstallContribNbextensionsApp]\u001b[m Up to date: /home/chris/.local/share/jupyter/nbextensions/code_prettify/isort.js\n",
      "\u001b[32m[I 14:33:14 InstallContribNbextensionsApp]\u001b[m Up to date: /home/chris/.local/share/jupyter/nbextensions/code_prettify/code_prettify.yaml\n",
      "\u001b[32m[I 14:33:14 InstallContribNbextensionsApp]\u001b[m Up to date: /home/chris/.local/share/jupyter/nbextensions/code_prettify/README_2to3.md\n",
      "\u001b[32m[I 14:33:14 InstallContribNbextensionsApp]\u001b[m Up to date: /home/chris/.local/share/jupyter/nbextensions/code_prettify/2to3.yaml\n",
      "\u001b[32m[I 14:33:14 InstallContribNbextensionsApp]\u001b[m Up to date: /home/chris/.local/share/jupyter/nbextensions/code_prettify/autopep8.yaml\n",
      "\u001b[32m[I 14:33:14 InstallContribNbextensionsApp]\u001b[m - Validating: \u001b[32mOK\u001b[0m\n",
      "\u001b[32m[I 14:33:14 InstallContribNbextensionsApp]\u001b[m Installing /home/chris/dev/lightning_talk_args_kwargs_python_types/venv/lib/python3.10/site-packages/jupyter_contrib_nbextensions/nbextensions/navigation-hotkeys -> navigation-hotkeys\n"
     ]
    },
    {
     "name": "stdout",
     "output_type": "stream",
     "text": [
      "\u001b[32m[I 14:33:14 InstallContribNbextensionsApp]\u001b[m Up to date: /home/chris/.local/share/jupyter/nbextensions/navigation-hotkeys/main.js\r\n",
      "\u001b[32m[I 14:33:14 InstallContribNbextensionsApp]\u001b[m Up to date: /home/chris/.local/share/jupyter/nbextensions/navigation-hotkeys/readme.md\r\n",
      "\u001b[32m[I 14:33:14 InstallContribNbextensionsApp]\u001b[m Up to date: /home/chris/.local/share/jupyter/nbextensions/navigation-hotkeys/icon.png\r\n",
      "\u001b[32m[I 14:33:14 InstallContribNbextensionsApp]\u001b[m Up to date: /home/chris/.local/share/jupyter/nbextensions/navigation-hotkeys/hotkeys.yaml\r\n",
      "\u001b[32m[I 14:33:14 InstallContribNbextensionsApp]\u001b[m - Validating: \u001b[32mOK\u001b[0m\r\n",
      "\u001b[32m[I 14:33:14 InstallContribNbextensionsApp]\u001b[m Installing /home/chris/dev/lightning_talk_args_kwargs_python_types/venv/lib/python3.10/site-packages/jupyter_contrib_nbextensions/nbextensions/move_selected_cells -> move_selected_cells\r\n",
      "\u001b[32m[I 14:33:14 InstallContribNbextensionsApp]\u001b[m Up to date: /home/chris/.local/share/jupyter/nbextensions/move_selected_cells/move_selected_cells.yaml\r\n",
      "\u001b[32m[I 14:33:14 InstallContribNbextensionsApp]\u001b[m Up to date: /home/chris/.local/share/jupyter/nbextensions/move_selected_cells/README.md\r\n",
      "\u001b[32m[I 14:33:14 InstallContribNbextensionsApp]\u001b[m Up to date: /home/chris/.local/share/jupyter/nbextensions/move_selected_cells/main.js\r\n",
      "\u001b[32m[I 14:33:14 InstallContribNbextensionsApp]\u001b[m - Validating: \u001b[32mOK\u001b[0m\r\n",
      "\u001b[32m[I 14:33:14 InstallContribNbextensionsApp]\u001b[m Installing /home/chris/dev/lightning_talk_args_kwargs_python_types/venv/lib/python3.10/site-packages/jupyter_contrib_nbextensions/nbextensions/execution_dependencies -> execution_dependencies\r\n",
      "\u001b[32m[I 14:33:14 InstallContribNbextensionsApp]\u001b[m Up to date: /home/chris/.local/share/jupyter/nbextensions/execution_dependencies/execution_dependencies.js\r\n",
      "\u001b[32m[I 14:33:14 InstallContribNbextensionsApp]\u001b[m Up to date: /home/chris/.local/share/jupyter/nbextensions/execution_dependencies/README.md\r\n",
      "\u001b[32m[I 14:33:14 InstallContribNbextensionsApp]\u001b[m Up to date: /home/chris/.local/share/jupyter/nbextensions/execution_dependencies/execution_dependencies.yml\r\n",
      "\u001b[32m[I 14:33:14 InstallContribNbextensionsApp]\u001b[m - Validating: \u001b[32mOK\u001b[0m\r\n",
      "\u001b[32m[I 14:33:14 InstallContribNbextensionsApp]\u001b[m Installing /home/chris/dev/lightning_talk_args_kwargs_python_types/venv/lib/python3.10/site-packages/jupyter_contrib_nbextensions/nbextensions/livemdpreview -> livemdpreview\r\n",
      "\u001b[32m[I 14:33:14 InstallContribNbextensionsApp]\u001b[m Up to date: /home/chris/.local/share/jupyter/nbextensions/livemdpreview/livemdpreview.js\r\n",
      "\u001b[32m[I 14:33:14 InstallContribNbextensionsApp]\u001b[m Up to date: /home/chris/.local/share/jupyter/nbextensions/livemdpreview/livemdpreview.yml\r\n",
      "\u001b[32m[I 14:33:14 InstallContribNbextensionsApp]\u001b[m - Validating: \u001b[32mOK\u001b[0m\r\n",
      "\u001b[32m[I 14:33:14 InstallContribNbextensionsApp]\u001b[m Installing /home/chris/dev/lightning_talk_args_kwargs_python_types/venv/lib/python3.10/site-packages/jupyter_contrib_nbextensions/nbextensions/init_cell -> init_cell\r\n",
      "\u001b[32m[I 14:33:14 InstallContribNbextensionsApp]\u001b[m Up to date: /home/chris/.local/share/jupyter/nbextensions/init_cell/cell_toolbar_menu.png\r\n",
      "\u001b[32m[I 14:33:14 InstallContribNbextensionsApp]\u001b[m Up to date: /home/chris/.local/share/jupyter/nbextensions/init_cell/README.md\r\n",
      "\u001b[32m[I 14:33:14 InstallContribNbextensionsApp]\u001b[m Up to date: /home/chris/.local/share/jupyter/nbextensions/init_cell/main.js\r\n",
      "\u001b[32m[I 14:33:14 InstallContribNbextensionsApp]\u001b[m Up to date: /home/chris/.local/share/jupyter/nbextensions/init_cell/init_cell.yaml\r\n",
      "\u001b[32m[I 14:33:14 InstallContribNbextensionsApp]\u001b[m Up to date: /home/chris/.local/share/jupyter/nbextensions/init_cell/icon.png\r\n",
      "\u001b[32m[I 14:33:14 InstallContribNbextensionsApp]\u001b[m - Validating: \u001b[32mOK\u001b[0m\r\n",
      "\u001b[32m[I 14:33:14 InstallContribNbextensionsApp]\u001b[m Installing /home/chris/dev/lightning_talk_args_kwargs_python_types/venv/lib/python3.10/site-packages/jupyter_contrib_nbextensions/nbextensions/printview -> printview\r\n",
      "\u001b[32m[I 14:33:14 InstallContribNbextensionsApp]\u001b[m Up to date: /home/chris/.local/share/jupyter/nbextensions/printview/printview-button.png\r\n",
      "\u001b[32m[I 14:33:14 InstallContribNbextensionsApp]\u001b[m Up to date: /home/chris/.local/share/jupyter/nbextensions/printview/printview.yaml\r\n",
      "\u001b[32m[I 14:33:14 InstallContribNbextensionsApp]\u001b[m Up to date: /home/chris/.local/share/jupyter/nbextensions/printview/main.js\r\n",
      "\u001b[32m[I 14:33:14 InstallContribNbextensionsApp]\u001b[m Up to date: /home/chris/.local/share/jupyter/nbextensions/printview/readme.md\r\n",
      "\u001b[32m[I 14:33:14 InstallContribNbextensionsApp]\u001b[m Up to date: /home/chris/.local/share/jupyter/nbextensions/printview/icon.png\r\n",
      "\u001b[32m[I 14:33:14 InstallContribNbextensionsApp]\u001b[m - Validating: \u001b[32mOK\u001b[0m\r\n",
      "\u001b[32m[I 14:33:14 InstallContribNbextensionsApp]\u001b[m Installing /home/chris/dev/lightning_talk_args_kwargs_python_types/venv/lib/python3.10/site-packages/jupyter_contrib_nbextensions/nbextensions/limit_output -> limit_output\r\n",
      "\u001b[32m[I 14:33:14 InstallContribNbextensionsApp]\u001b[m Up to date: /home/chris/.local/share/jupyter/nbextensions/limit_output/main.js\r\n",
      "\u001b[32m[I 14:33:14 InstallContribNbextensionsApp]\u001b[m Up to date: /home/chris/.local/share/jupyter/nbextensions/limit_output/readme.md\r\n",
      "\u001b[32m[I 14:33:14 InstallContribNbextensionsApp]\u001b[m Up to date: /home/chris/.local/share/jupyter/nbextensions/limit_output/icon.png\r\n",
      "\u001b[32m[I 14:33:14 InstallContribNbextensionsApp]\u001b[m Up to date: /home/chris/.local/share/jupyter/nbextensions/limit_output/limit-output.yaml\r\n",
      "\u001b[32m[I 14:33:14 InstallContribNbextensionsApp]\u001b[m - Validating: \u001b[32mOK\u001b[0m\r\n",
      "\u001b[32m[I 14:33:14 InstallContribNbextensionsApp]\u001b[m Installing /home/chris/dev/lightning_talk_args_kwargs_python_types/venv/lib/python3.10/site-packages/jupyter_contrib_nbextensions/nbextensions/comment-uncomment -> comment-uncomment\r\n",
      "\u001b[32m[I 14:33:14 InstallContribNbextensionsApp]\u001b[m Up to date: /home/chris/.local/share/jupyter/nbextensions/comment-uncomment/comment-uncomment.yaml\r\n",
      "\u001b[32m[I 14:33:14 InstallContribNbextensionsApp]\u001b[m Up to date: /home/chris/.local/share/jupyter/nbextensions/comment-uncomment/main.js\r\n",
      "\u001b[32m[I 14:33:14 InstallContribNbextensionsApp]\u001b[m Up to date: /home/chris/.local/share/jupyter/nbextensions/comment-uncomment/readme.md\r\n",
      "\u001b[32m[I 14:33:14 InstallContribNbextensionsApp]\u001b[m Up to date: /home/chris/.local/share/jupyter/nbextensions/comment-uncomment/icon.png\r\n",
      "\u001b[32m[I 14:33:14 InstallContribNbextensionsApp]\u001b[m - Validating: \u001b[32mOK\u001b[0m\r\n",
      "\u001b[32m[I 14:33:14 InstallContribNbextensionsApp]\u001b[m Installing /home/chris/dev/lightning_talk_args_kwargs_python_types/venv/lib/python3.10/site-packages/jupyter_contrib_nbextensions/nbextensions/spellchecker -> spellchecker\r\n",
      "\u001b[32m[I 14:33:14 InstallContribNbextensionsApp]\u001b[m Up to date: /home/chris/.local/share/jupyter/nbextensions/spellchecker/README.md\r\n",
      "\u001b[32m[I 14:33:14 InstallContribNbextensionsApp]\u001b[m Up to date: /home/chris/.local/share/jupyter/nbextensions/spellchecker/main.css\r\n",
      "\u001b[32m[I 14:33:14 InstallContribNbextensionsApp]\u001b[m Up to date: /home/chris/.local/share/jupyter/nbextensions/spellchecker/screenshot.png\r\n",
      "\u001b[32m[I 14:33:14 InstallContribNbextensionsApp]\u001b[m Up to date: /home/chris/.local/share/jupyter/nbextensions/spellchecker/config.yaml\r\n",
      "\u001b[32m[I 14:33:14 InstallContribNbextensionsApp]\u001b[m Up to date: /home/chris/.local/share/jupyter/nbextensions/spellchecker/main.js\r\n",
      "\u001b[32m[I 14:33:14 InstallContribNbextensionsApp]\u001b[m Up to date: /home/chris/.local/share/jupyter/nbextensions/spellchecker/download_new_dict.py\r\n",
      "\u001b[32m[I 14:33:14 InstallContribNbextensionsApp]\u001b[m Up to date: /home/chris/.local/share/jupyter/nbextensions/spellchecker/__pycache__/download_new_dict.cpython-310.pyc\r\n",
      "\u001b[32m[I 14:33:14 InstallContribNbextensionsApp]\u001b[m Up to date: /home/chris/.local/share/jupyter/nbextensions/spellchecker/typo/typo.js\r\n",
      "\u001b[32m[I 14:33:14 InstallContribNbextensionsApp]\u001b[m Up to date: /home/chris/.local/share/jupyter/nbextensions/spellchecker/typo/LICENSE.txt\r\n",
      "\u001b[32m[I 14:33:14 InstallContribNbextensionsApp]\u001b[m - Validating: \u001b[32mOK\u001b[0m\r\n",
      "\u001b[32m[I 14:33:14 InstallContribNbextensionsApp]\u001b[m Installing /home/chris/dev/lightning_talk_args_kwargs_python_types/venv/lib/python3.10/site-packages/jupyter_contrib_nbextensions/nbextensions/export_embedded -> export_embedded\r\n",
      "\u001b[32m[I 14:33:14 InstallContribNbextensionsApp]\u001b[m Up to date: /home/chris/.local/share/jupyter/nbextensions/export_embedded/main.js\r\n",
      "\u001b[32m[I 14:33:14 InstallContribNbextensionsApp]\u001b[m Up to date: /home/chris/.local/share/jupyter/nbextensions/export_embedded/readme.md\r\n",
      "\u001b[32m[I 14:33:14 InstallContribNbextensionsApp]\u001b[m Up to date: /home/chris/.local/share/jupyter/nbextensions/export_embedded/icon.png\r\n",
      "\u001b[32m[I 14:33:14 InstallContribNbextensionsApp]\u001b[m Up to date: /home/chris/.local/share/jupyter/nbextensions/export_embedded/export_embedded.yaml\r\n",
      "\u001b[32m[I 14:33:14 InstallContribNbextensionsApp]\u001b[m - Validating: \u001b[32mOK\u001b[0m\r\n",
      "\u001b[32m[I 14:33:14 InstallContribNbextensionsApp]\u001b[m Installing /home/chris/dev/lightning_talk_args_kwargs_python_types/venv/lib/python3.10/site-packages/jupyter_contrib_nbextensions/nbextensions/notify -> notify\r\n",
      "\u001b[32m[I 14:33:14 InstallContribNbextensionsApp]\u001b[m Up to date: /home/chris/.local/share/jupyter/nbextensions/notify/notify.mp3\r\n",
      "\u001b[32m[I 14:33:14 InstallContribNbextensionsApp]\u001b[m Up to date: /home/chris/.local/share/jupyter/nbextensions/notify/readme.md\r\n",
      "\u001b[32m[I 14:33:14 InstallContribNbextensionsApp]\u001b[m Up to date: /home/chris/.local/share/jupyter/nbextensions/notify/notify.js\r\n",
      "\u001b[32m[I 14:33:14 InstallContribNbextensionsApp]\u001b[m Up to date: /home/chris/.local/share/jupyter/nbextensions/notify/notify.yaml\r\n",
      "\u001b[32m[I 14:33:14 InstallContribNbextensionsApp]\u001b[m Up to date: /home/chris/.local/share/jupyter/nbextensions/notify/notification.png\r\n",
      "\u001b[32m[I 14:33:14 InstallContribNbextensionsApp]\u001b[m - Validating: \u001b[32mOK\u001b[0m\r\n",
      "\u001b[32m[I 14:33:14 InstallContribNbextensionsApp]\u001b[m Installing /home/chris/dev/lightning_talk_args_kwargs_python_types/venv/lib/python3.10/site-packages/jupyter_contrib_nbextensions/nbextensions/skill -> skill\r\n",
      "\u001b[32m[I 14:33:14 InstallContribNbextensionsApp]\u001b[m Up to date: /home/chris/.local/share/jupyter/nbextensions/skill/README.md\r\n",
      "\u001b[32m[I 14:33:14 InstallContribNbextensionsApp]\u001b[m Up to date: /home/chris/.local/share/jupyter/nbextensions/skill/main.js\r\n",
      "\u001b[32m[I 14:33:14 InstallContribNbextensionsApp]\u001b[m Up to date: /home/chris/.local/share/jupyter/nbextensions/skill/skill.yaml\r\n",
      "\u001b[32m[I 14:33:14 InstallContribNbextensionsApp]\u001b[m Up to date: /home/chris/.local/share/jupyter/nbextensions/skill/skill.js\r\n",
      "\u001b[32m[I 14:33:14 InstallContribNbextensionsApp]\u001b[m - Validating: \u001b[32mOK\u001b[0m\r\n",
      "\u001b[32m[I 14:33:14 InstallContribNbextensionsApp]\u001b[m Installing /home/chris/dev/lightning_talk_args_kwargs_python_types/venv/lib/python3.10/site-packages/jupyter_contrib_nbextensions/nbextensions/toc2 -> toc2\r\n",
      "\u001b[32m[I 14:33:14 InstallContribNbextensionsApp]\u001b[m Up to date: /home/chris/.local/share/jupyter/nbextensions/toc2/toc2.yaml\r\n",
      "\u001b[32m[I 14:33:14 InstallContribNbextensionsApp]\u001b[m Up to date: /home/chris/.local/share/jupyter/nbextensions/toc2/demo_dark.png\r\n",
      "\u001b[32m[I 14:33:14 InstallContribNbextensionsApp]\u001b[m Up to date: /home/chris/.local/share/jupyter/nbextensions/toc2/README.md\r\n",
      "\u001b[32m[I 14:33:14 InstallContribNbextensionsApp]\u001b[m Up to date: /home/chris/.local/share/jupyter/nbextensions/toc2/main.css\r\n",
      "\u001b[32m[I 14:33:14 InstallContribNbextensionsApp]\u001b[m Up to date: /home/chris/.local/share/jupyter/nbextensions/toc2/main.js\r\n",
      "\u001b[32m[I 14:33:14 InstallContribNbextensionsApp]\u001b[m Up to date: /home/chris/.local/share/jupyter/nbextensions/toc2/image.png\r\n",
      "\u001b[32m[I 14:33:14 InstallContribNbextensionsApp]\u001b[m Up to date: /home/chris/.local/share/jupyter/nbextensions/toc2/demo3.gif\r\n",
      "\u001b[32m[I 14:33:14 InstallContribNbextensionsApp]\u001b[m Up to date: /home/chris/.local/share/jupyter/nbextensions/toc2/toc2.js\r\n",
      "\u001b[32m[I 14:33:14 InstallContribNbextensionsApp]\u001b[m Up to date: /home/chris/.local/share/jupyter/nbextensions/toc2/icon.png\r\n",
      "\u001b[32m[I 14:33:14 InstallContribNbextensionsApp]\u001b[m Up to date: /home/chris/.local/share/jupyter/nbextensions/toc2/demo2.gif\r\n",
      "\u001b[32m[I 14:33:14 InstallContribNbextensionsApp]\u001b[m Up to date: /home/chris/.local/share/jupyter/nbextensions/toc2/demo.gif\r\n",
      "\u001b[32m[I 14:33:14 InstallContribNbextensionsApp]\u001b[m - Validating: \u001b[32mOK\u001b[0m\r\n",
      "\u001b[32m[I 14:33:14 InstallContribNbextensionsApp]\u001b[m Installing /home/chris/dev/lightning_talk_args_kwargs_python_types/venv/lib/python3.10/site-packages/jupyter_contrib_nbextensions/nbextensions/ruler -> ruler\r\n",
      "\u001b[32m[I 14:33:14 InstallContribNbextensionsApp]\u001b[m Up to date: /home/chris/.local/share/jupyter/nbextensions/ruler/ruler.yaml\r\n",
      "\u001b[32m[I 14:33:14 InstallContribNbextensionsApp]\u001b[m Up to date: /home/chris/.local/share/jupyter/nbextensions/ruler/main.js\r\n",
      "\u001b[32m[I 14:33:14 InstallContribNbextensionsApp]\u001b[m Up to date: /home/chris/.local/share/jupyter/nbextensions/ruler/readme.md\r\n",
      "\u001b[32m[I 14:33:14 InstallContribNbextensionsApp]\u001b[m Up to date: /home/chris/.local/share/jupyter/nbextensions/ruler/icon.png\r\n",
      "\u001b[32m[I 14:33:14 InstallContribNbextensionsApp]\u001b[m Up to date: /home/chris/.local/share/jupyter/nbextensions/ruler/edit.js\r\n",
      "\u001b[32m[I 14:33:14 InstallContribNbextensionsApp]\u001b[m Up to date: /home/chris/.local/share/jupyter/nbextensions/ruler/ruler_editor.yaml\r\n",
      "\u001b[32m[I 14:33:14 InstallContribNbextensionsApp]\u001b[m - Validating: \u001b[32mOK\u001b[0m\r\n",
      "\u001b[32m[I 14:33:14 InstallContribNbextensionsApp]\u001b[m Installing /home/chris/dev/lightning_talk_args_kwargs_python_types/venv/lib/python3.10/site-packages/jupyter_contrib_nbextensions/nbextensions/ruler -> ruler\r\n",
      "\u001b[32m[I 14:33:14 InstallContribNbextensionsApp]\u001b[m Up to date: /home/chris/.local/share/jupyter/nbextensions/ruler/ruler.yaml\r\n",
      "\u001b[32m[I 14:33:14 InstallContribNbextensionsApp]\u001b[m Up to date: /home/chris/.local/share/jupyter/nbextensions/ruler/main.js\r\n",
      "\u001b[32m[I 14:33:14 InstallContribNbextensionsApp]\u001b[m Up to date: /home/chris/.local/share/jupyter/nbextensions/ruler/readme.md\r\n",
      "\u001b[32m[I 14:33:14 InstallContribNbextensionsApp]\u001b[m Up to date: /home/chris/.local/share/jupyter/nbextensions/ruler/icon.png\r\n",
      "\u001b[32m[I 14:33:14 InstallContribNbextensionsApp]\u001b[m Up to date: /home/chris/.local/share/jupyter/nbextensions/ruler/edit.js\r\n",
      "\u001b[32m[I 14:33:14 InstallContribNbextensionsApp]\u001b[m Up to date: /home/chris/.local/share/jupyter/nbextensions/ruler/ruler_editor.yaml\r\n",
      "\u001b[32m[I 14:33:14 InstallContribNbextensionsApp]\u001b[m - Validating: \u001b[32mOK\u001b[0m\r\n",
      "\u001b[32m[I 14:33:14 InstallContribNbextensionsApp]\u001b[m Installing /home/chris/dev/lightning_talk_args_kwargs_python_types/venv/lib/python3.10/site-packages/jupyter_contrib_nbextensions/nbextensions/code_font_size -> code_font_size\r\n",
      "\u001b[32m[I 14:33:14 InstallContribNbextensionsApp]\u001b[m Up to date: /home/chris/.local/share/jupyter/nbextensions/code_font_size/README.md\r\n",
      "\u001b[32m[I 14:33:14 InstallContribNbextensionsApp]\u001b[m Up to date: /home/chris/.local/share/jupyter/nbextensions/code_font_size/code_font_size.js\r\n",
      "\u001b[32m[I 14:33:14 InstallContribNbextensionsApp]\u001b[m Up to date: /home/chris/.local/share/jupyter/nbextensions/code_font_size/code_font_size.yaml\r\n",
      "\u001b[32m[I 14:33:14 InstallContribNbextensionsApp]\u001b[m - Validating: \u001b[32mOK\u001b[0m\r\n",
      "\u001b[32m[I 14:33:14 InstallContribNbextensionsApp]\u001b[m Installing /home/chris/dev/lightning_talk_args_kwargs_python_types/venv/lib/python3.10/site-packages/jupyter_contrib_nbextensions/nbextensions/scroll_down -> scroll_down\r\n",
      "\u001b[32m[I 14:33:14 InstallContribNbextensionsApp]\u001b[m Up to date: /home/chris/.local/share/jupyter/nbextensions/scroll_down/config.yaml\r\n",
      "\u001b[32m[I 14:33:14 InstallContribNbextensionsApp]\u001b[m Up to date: /home/chris/.local/share/jupyter/nbextensions/scroll_down/main.js\r\n",
      "\u001b[32m[I 14:33:14 InstallContribNbextensionsApp]\u001b[m Up to date: /home/chris/.local/share/jupyter/nbextensions/scroll_down/readme.md\r\n",
      "\u001b[32m[I 14:33:14 InstallContribNbextensionsApp]\u001b[m Up to date: /home/chris/.local/share/jupyter/nbextensions/scroll_down/icon.png\r\n",
      "\u001b[32m[I 14:33:14 InstallContribNbextensionsApp]\u001b[m - Validating: \u001b[32mOK\u001b[0m\r\n",
      "\u001b[32m[I 14:33:14 InstallContribNbextensionsApp]\u001b[m Installing /home/chris/dev/lightning_talk_args_kwargs_python_types/venv/lib/python3.10/site-packages/jupyter_contrib_nbextensions/nbextensions/autosavetime -> autosavetime\r\n",
      "\u001b[32m[I 14:33:14 InstallContribNbextensionsApp]\u001b[m Up to date: /home/chris/.local/share/jupyter/nbextensions/autosavetime/README.md\r\n",
      "\u001b[32m[I 14:33:14 InstallContribNbextensionsApp]\u001b[m Up to date: /home/chris/.local/share/jupyter/nbextensions/autosavetime/autosavetime.yaml\r\n",
      "\u001b[32m[I 14:33:14 InstallContribNbextensionsApp]\u001b[m Up to date: /home/chris/.local/share/jupyter/nbextensions/autosavetime/main.js\r\n",
      "\u001b[32m[I 14:33:14 InstallContribNbextensionsApp]\u001b[m Up to date: /home/chris/.local/share/jupyter/nbextensions/autosavetime/icon.png\r\n",
      "\u001b[32m[I 14:33:14 InstallContribNbextensionsApp]\u001b[m - Validating: \u001b[32mOK\u001b[0m\r\n",
      "\u001b[32m[I 14:33:14 InstallContribNbextensionsApp]\u001b[m Installing /home/chris/dev/lightning_talk_args_kwargs_python_types/venv/lib/python3.10/site-packages/jupyter_contrib_nbextensions/nbextensions/toggle_all_line_numbers -> toggle_all_line_numbers\r\n",
      "\u001b[32m[I 14:33:14 InstallContribNbextensionsApp]\u001b[m Up to date: /home/chris/.local/share/jupyter/nbextensions/toggle_all_line_numbers/main.js\r\n",
      "\u001b[32m[I 14:33:14 InstallContribNbextensionsApp]\u001b[m Up to date: /home/chris/.local/share/jupyter/nbextensions/toggle_all_line_numbers/readme.md\r\n",
      "\u001b[32m[I 14:33:14 InstallContribNbextensionsApp]\u001b[m Up to date: /home/chris/.local/share/jupyter/nbextensions/toggle_all_line_numbers/icon.png\r\n",
      "\u001b[32m[I 14:33:14 InstallContribNbextensionsApp]\u001b[m Up to date: /home/chris/.local/share/jupyter/nbextensions/toggle_all_line_numbers/main.yaml\r\n",
      "\u001b[32m[I 14:33:14 InstallContribNbextensionsApp]\u001b[m - Validating: \u001b[32mOK\u001b[0m\r\n",
      "\u001b[32m[I 14:33:14 InstallContribNbextensionsApp]\u001b[m Installing /home/chris/dev/lightning_talk_args_kwargs_python_types/venv/lib/python3.10/site-packages/jupyter_contrib_nbextensions/nbextensions/tree-filter -> tree-filter\r\n",
      "\u001b[32m[I 14:33:14 InstallContribNbextensionsApp]\u001b[m Up to date: /home/chris/.local/share/jupyter/nbextensions/tree-filter/tree-filter.yaml\r\n",
      "\u001b[32m[I 14:33:14 InstallContribNbextensionsApp]\u001b[m Up to date: /home/chris/.local/share/jupyter/nbextensions/tree-filter/index.js\r\n",
      "\u001b[32m[I 14:33:14 InstallContribNbextensionsApp]\u001b[m Up to date: /home/chris/.local/share/jupyter/nbextensions/tree-filter/readme.md\r\n",
      "\u001b[32m[I 14:33:14 InstallContribNbextensionsApp]\u001b[m Up to date: /home/chris/.local/share/jupyter/nbextensions/tree-filter/demo.gif\r\n",
      "\u001b[32m[I 14:33:14 InstallContribNbextensionsApp]\u001b[m - Validating: \u001b[32mOK\u001b[0m\r\n",
      "\u001b[32m[I 14:33:14 InstallContribNbextensionsApp]\u001b[m Installing /home/chris/dev/lightning_talk_args_kwargs_python_types/venv/lib/python3.10/site-packages/jupyter_contrib_nbextensions/nbextensions/snippets_menu -> snippets_menu\r\n",
      "\u001b[32m[I 14:33:14 InstallContribNbextensionsApp]\u001b[m Up to date: /home/chris/.local/share/jupyter/nbextensions/snippets_menu/screenshot1.png\r\n",
      "\u001b[32m[I 14:33:14 InstallContribNbextensionsApp]\u001b[m Up to date: /home/chris/.local/share/jupyter/nbextensions/snippets_menu/snippets_menu.css\r\n",
      "\u001b[32m[I 14:33:14 InstallContribNbextensionsApp]\u001b[m Up to date: /home/chris/.local/share/jupyter/nbextensions/snippets_menu/examples_for_custom.js\r\n",
      "\u001b[32m[I 14:33:14 InstallContribNbextensionsApp]\u001b[m Up to date: /home/chris/.local/share/jupyter/nbextensions/snippets_menu/thumbnail.png\r\n",
      "\u001b[32m[I 14:33:14 InstallContribNbextensionsApp]\u001b[m Up to date: /home/chris/.local/share/jupyter/nbextensions/snippets_menu/config.yaml\r\n",
      "\u001b[32m[I 14:33:14 InstallContribNbextensionsApp]\u001b[m Up to date: /home/chris/.local/share/jupyter/nbextensions/snippets_menu/main.js\r\n",
      "\u001b[32m[I 14:33:14 InstallContribNbextensionsApp]\u001b[m Up to date: /home/chris/.local/share/jupyter/nbextensions/snippets_menu/readme.md\r\n",
      "\u001b[32m[I 14:33:14 InstallContribNbextensionsApp]\u001b[m Up to date: /home/chris/.local/share/jupyter/nbextensions/snippets_menu/snippets_submenu_markdown.js\r\n",
      "\u001b[32m[I 14:33:14 InstallContribNbextensionsApp]\u001b[m Up to date: /home/chris/.local/share/jupyter/nbextensions/snippets_menu/snippets_submenu_python.js\r\n",
      "\u001b[32m[I 14:33:14 InstallContribNbextensionsApp]\u001b[m Up to date: /home/chris/.local/share/jupyter/nbextensions/snippets_menu/screenshot3.png\r\n",
      "\u001b[32m[I 14:33:14 InstallContribNbextensionsApp]\u001b[m Up to date: /home/chris/.local/share/jupyter/nbextensions/snippets_menu/screenshot2.png\r\n",
      "\u001b[32m[I 14:33:14 InstallContribNbextensionsApp]\u001b[m Up to date: /home/chris/.local/share/jupyter/nbextensions/snippets_menu/snippets_submenus_python/scipy_constants.js\r\n",
      "\u001b[32m[I 14:33:14 InstallContribNbextensionsApp]\u001b[m Up to date: /home/chris/.local/share/jupyter/nbextensions/snippets_menu/snippets_submenus_python/python_regex.js\r\n",
      "\u001b[32m[I 14:33:14 InstallContribNbextensionsApp]\u001b[m Up to date: /home/chris/.local/share/jupyter/nbextensions/snippets_menu/snippets_submenus_python/numpy.js\r\n",
      "\u001b[32m[I 14:33:14 InstallContribNbextensionsApp]\u001b[m Up to date: /home/chris/.local/share/jupyter/nbextensions/snippets_menu/snippets_submenus_python/numpy_polynomial.js\r\n",
      "\u001b[32m[I 14:33:14 InstallContribNbextensionsApp]\u001b[m Up to date: /home/chris/.local/share/jupyter/nbextensions/snippets_menu/snippets_submenus_python/astropy.js\r\n",
      "\u001b[32m[I 14:33:14 InstallContribNbextensionsApp]\u001b[m Up to date: /home/chris/.local/share/jupyter/nbextensions/snippets_menu/snippets_submenus_python/sympy_functions.js\r\n",
      "\u001b[32m[I 14:33:14 InstallContribNbextensionsApp]\u001b[m Up to date: /home/chris/.local/share/jupyter/nbextensions/snippets_menu/snippets_submenus_python/h5py.js\r\n",
      "\u001b[32m[I 14:33:14 InstallContribNbextensionsApp]\u001b[m Up to date: /home/chris/.local/share/jupyter/nbextensions/snippets_menu/snippets_submenus_python/sympy_assumptions.js\r\n",
      "\u001b[32m[I 14:33:14 InstallContribNbextensionsApp]\u001b[m Up to date: /home/chris/.local/share/jupyter/nbextensions/snippets_menu/snippets_submenus_python/numpy_ufuncs.js\r\n",
      "\u001b[32m[I 14:33:14 InstallContribNbextensionsApp]\u001b[m Up to date: /home/chris/.local/share/jupyter/nbextensions/snippets_menu/snippets_submenus_python/numba.js\r\n",
      "\u001b[32m[I 14:33:14 InstallContribNbextensionsApp]\u001b[m Up to date: /home/chris/.local/share/jupyter/nbextensions/snippets_menu/snippets_submenus_python/pandas.js\r\n",
      "\u001b[32m[I 14:33:14 InstallContribNbextensionsApp]\u001b[m Up to date: /home/chris/.local/share/jupyter/nbextensions/snippets_menu/snippets_submenus_python/scipy_special.js\r\n",
      "\u001b[32m[I 14:33:14 InstallContribNbextensionsApp]\u001b[m Up to date: /home/chris/.local/share/jupyter/nbextensions/snippets_menu/snippets_submenus_python/python.js\r\n",
      "\u001b[32m[I 14:33:14 InstallContribNbextensionsApp]\u001b[m Up to date: /home/chris/.local/share/jupyter/nbextensions/snippets_menu/snippets_submenus_python/sympy.js\r\n",
      "\u001b[32m[I 14:33:14 InstallContribNbextensionsApp]\u001b[m Up to date: /home/chris/.local/share/jupyter/nbextensions/snippets_menu/snippets_submenus_python/scipy.js\r\n",
      "\u001b[32m[I 14:33:14 InstallContribNbextensionsApp]\u001b[m Up to date: /home/chris/.local/share/jupyter/nbextensions/snippets_menu/snippets_submenus_python/matplotlib.js\r\n",
      "\u001b[32m[I 14:33:14 InstallContribNbextensionsApp]\u001b[m - Validating: \u001b[32mOK\u001b[0m\r\n",
      "\u001b[32m[I 14:33:14 InstallContribNbextensionsApp]\u001b[m Installing /home/chris/dev/lightning_talk_args_kwargs_python_types/venv/lib/python3.10/site-packages/jupyter_contrib_nbextensions/nbextensions/freeze -> freeze\r\n",
      "\u001b[32m[I 14:33:14 InstallContribNbextensionsApp]\u001b[m Up to date: /home/chris/.local/share/jupyter/nbextensions/freeze/config.yaml\r\n",
      "\u001b[32m[I 14:33:14 InstallContribNbextensionsApp]\u001b[m Up to date: /home/chris/.local/share/jupyter/nbextensions/freeze/main.js\r\n",
      "\u001b[32m[I 14:33:14 InstallContribNbextensionsApp]\u001b[m Up to date: /home/chris/.local/share/jupyter/nbextensions/freeze/readme.md\r\n",
      "\u001b[32m[I 14:33:14 InstallContribNbextensionsApp]\u001b[m Up to date: /home/chris/.local/share/jupyter/nbextensions/freeze/icon.png\r\n",
      "\u001b[32m[I 14:33:14 InstallContribNbextensionsApp]\u001b[m - Validating: \u001b[32mOK\u001b[0m\r\n",
      "\u001b[32m[I 14:33:14 InstallContribNbextensionsApp]\u001b[m Installing /home/chris/dev/lightning_talk_args_kwargs_python_types/venv/lib/python3.10/site-packages/jupyter_contrib_nbextensions/nbextensions/codemirror_mode_extensions -> codemirror_mode_extensions\r\n",
      "\u001b[32m[I 14:33:14 InstallContribNbextensionsApp]\u001b[m Up to date: /home/chris/.local/share/jupyter/nbextensions/codemirror_mode_extensions/main.js\r\n",
      "\u001b[32m[I 14:33:14 InstallContribNbextensionsApp]\u001b[m Up to date: /home/chris/.local/share/jupyter/nbextensions/codemirror_mode_extensions/codemirror_mode_extensions.yaml\r\n",
      "\u001b[32m[I 14:33:14 InstallContribNbextensionsApp]\u001b[m - Validating: \u001b[32mOK\u001b[0m\r\n",
      "\u001b[32m[I 14:33:14 InstallContribNbextensionsApp]\u001b[m Installing /home/chris/dev/lightning_talk_args_kwargs_python_types/venv/lib/python3.10/site-packages/jupyter_contrib_nbextensions/nbextensions/python-markdown -> python-markdown\r\n",
      "\u001b[32m[I 14:33:14 InstallContribNbextensionsApp]\u001b[m Up to date: /home/chris/.local/share/jupyter/nbextensions/python-markdown/python-markdown-post.png\r\n",
      "\u001b[32m[I 14:33:14 InstallContribNbextensionsApp]\u001b[m Up to date: /home/chris/.local/share/jupyter/nbextensions/python-markdown/python-markdown.png\r\n",
      "\u001b[32m[I 14:33:14 InstallContribNbextensionsApp]\u001b[m Up to date: /home/chris/.local/share/jupyter/nbextensions/python-markdown/main.css\r\n",
      "\u001b[32m[I 14:33:14 InstallContribNbextensionsApp]\u001b[m Up to date: /home/chris/.local/share/jupyter/nbextensions/python-markdown/main.js\r\n",
      "\u001b[32m[I 14:33:14 InstallContribNbextensionsApp]\u001b[m Up to date: /home/chris/.local/share/jupyter/nbextensions/python-markdown/readme.md\r\n",
      "\u001b[32m[I 14:33:14 InstallContribNbextensionsApp]\u001b[m Up to date: /home/chris/.local/share/jupyter/nbextensions/python-markdown/python-markdown-pre.png\r\n",
      "\u001b[32m[I 14:33:14 InstallContribNbextensionsApp]\u001b[m Up to date: /home/chris/.local/share/jupyter/nbextensions/python-markdown/python-markdown.yaml\r\n",
      "\u001b[32m[I 14:33:14 InstallContribNbextensionsApp]\u001b[m Up to date: /home/chris/.local/share/jupyter/nbextensions/python-markdown/trusted.png\r\n",
      "\u001b[32m[I 14:33:14 InstallContribNbextensionsApp]\u001b[m Up to date: /home/chris/.local/share/jupyter/nbextensions/python-markdown/untrusted.png\r\n",
      "\u001b[32m[I 14:33:14 InstallContribNbextensionsApp]\u001b[m - Validating: \u001b[32mOK\u001b[0m\r\n",
      "\u001b[32m[I 14:33:14 InstallContribNbextensionsApp]\u001b[m Installing /home/chris/dev/lightning_talk_args_kwargs_python_types/venv/lib/python3.10/site-packages/jupyter_contrib_nbextensions/nbextensions/zenmode -> zenmode\r\n",
      "\u001b[32m[I 14:33:14 InstallContribNbextensionsApp]\u001b[m Up to date: /home/chris/.local/share/jupyter/nbextensions/zenmode/README.md\r\n",
      "\u001b[32m[I 14:33:14 InstallContribNbextensionsApp]\u001b[m Up to date: /home/chris/.local/share/jupyter/nbextensions/zenmode/main.css\r\n",
      "\u001b[32m[I 14:33:14 InstallContribNbextensionsApp]\u001b[m Up to date: /home/chris/.local/share/jupyter/nbextensions/zenmode/main.js\r\n",
      "\u001b[32m[I 14:33:14 InstallContribNbextensionsApp]\u001b[m Up to date: /home/chris/.local/share/jupyter/nbextensions/zenmode/zenmode.yaml\r\n",
      "\u001b[32m[I 14:33:14 InstallContribNbextensionsApp]\u001b[m Up to date: /home/chris/.local/share/jupyter/nbextensions/zenmode/images/back22.jpg\r\n",
      "\u001b[32m[I 14:33:14 InstallContribNbextensionsApp]\u001b[m Up to date: /home/chris/.local/share/jupyter/nbextensions/zenmode/images/back12.jpg\r\n",
      "\u001b[32m[I 14:33:14 InstallContribNbextensionsApp]\u001b[m Up to date: /home/chris/.local/share/jupyter/nbextensions/zenmode/images/back21.jpg\r\n",
      "\u001b[32m[I 14:33:14 InstallContribNbextensionsApp]\u001b[m Up to date: /home/chris/.local/share/jupyter/nbextensions/zenmode/images/ipynblogo1.png\r\n",
      "\u001b[32m[I 14:33:14 InstallContribNbextensionsApp]\u001b[m Up to date: /home/chris/.local/share/jupyter/nbextensions/zenmode/images/back1.jpg\r\n",
      "\u001b[32m[I 14:33:14 InstallContribNbextensionsApp]\u001b[m Up to date: /home/chris/.local/share/jupyter/nbextensions/zenmode/images/back3.jpg\r\n",
      "\u001b[32m[I 14:33:14 InstallContribNbextensionsApp]\u001b[m Up to date: /home/chris/.local/share/jupyter/nbextensions/zenmode/images/back2.jpg\r\n",
      "\u001b[32m[I 14:33:14 InstallContribNbextensionsApp]\u001b[m Up to date: /home/chris/.local/share/jupyter/nbextensions/zenmode/images/ipynblogo0.png\r\n",
      "\u001b[32m[I 14:33:14 InstallContribNbextensionsApp]\u001b[m Up to date: /home/chris/.local/share/jupyter/nbextensions/zenmode/images/back11.jpg\r\n",
      "\u001b[32m[I 14:33:14 InstallContribNbextensionsApp]\u001b[m - Validating: \u001b[32mOK\u001b[0m\r\n",
      "\u001b[32m[I 14:33:14 InstallContribNbextensionsApp]\u001b[m Installing /home/chris/dev/lightning_talk_args_kwargs_python_types/venv/lib/python3.10/site-packages/jupyter_contrib_nbextensions/nbextensions/keyboard_shortcut_editor -> keyboard_shortcut_editor\r\n",
      "\u001b[32m[I 14:33:14 InstallContribNbextensionsApp]\u001b[m Up to date: /home/chris/.local/share/jupyter/nbextensions/keyboard_shortcut_editor/readme_reset_disabled.png\r\n",
      "\u001b[32m[I 14:33:14 InstallContribNbextensionsApp]\u001b[m Up to date: /home/chris/.local/share/jupyter/nbextensions/keyboard_shortcut_editor/keyboard_shortcut_editor.yaml\r\n",
      "\u001b[32m[I 14:33:14 InstallContribNbextensionsApp]\u001b[m Up to date: /home/chris/.local/share/jupyter/nbextensions/keyboard_shortcut_editor/readme_menu_item.png\r\n",
      "\u001b[32m[I 14:33:14 InstallContribNbextensionsApp]\u001b[m Up to date: /home/chris/.local/share/jupyter/nbextensions/keyboard_shortcut_editor/readme_undefined_key.png\r\n",
      "\u001b[32m[I 14:33:14 InstallContribNbextensionsApp]\u001b[m Up to date: /home/chris/.local/share/jupyter/nbextensions/keyboard_shortcut_editor/README.md\r\n",
      "\u001b[32m[I 14:33:14 InstallContribNbextensionsApp]\u001b[m Up to date: /home/chris/.local/share/jupyter/nbextensions/keyboard_shortcut_editor/main.css\r\n",
      "\u001b[32m[I 14:33:14 InstallContribNbextensionsApp]\u001b[m Up to date: /home/chris/.local/share/jupyter/nbextensions/keyboard_shortcut_editor/main.js\r\n",
      "\u001b[32m[I 14:33:14 InstallContribNbextensionsApp]\u001b[m Up to date: /home/chris/.local/share/jupyter/nbextensions/keyboard_shortcut_editor/readme_shortcut_editor_success.png\r\n",
      "\u001b[32m[I 14:33:14 InstallContribNbextensionsApp]\u001b[m Up to date: /home/chris/.local/share/jupyter/nbextensions/keyboard_shortcut_editor/readme_dropdown.png\r\n",
      "\u001b[32m[I 14:33:14 InstallContribNbextensionsApp]\u001b[m Up to date: /home/chris/.local/share/jupyter/nbextensions/keyboard_shortcut_editor/kse_components.js\r\n",
      "\u001b[32m[I 14:33:14 InstallContribNbextensionsApp]\u001b[m Up to date: /home/chris/.local/share/jupyter/nbextensions/keyboard_shortcut_editor/readme_comma.png\r\n",
      "\u001b[32m[I 14:33:14 InstallContribNbextensionsApp]\u001b[m Up to date: /home/chris/.local/share/jupyter/nbextensions/keyboard_shortcut_editor/icon.png\r\n",
      "\u001b[32m[I 14:33:14 InstallContribNbextensionsApp]\u001b[m Up to date: /home/chris/.local/share/jupyter/nbextensions/keyboard_shortcut_editor/readme_conflict.png\r\n",
      "\u001b[32m[I 14:33:14 InstallContribNbextensionsApp]\u001b[m Up to date: /home/chris/.local/share/jupyter/nbextensions/keyboard_shortcut_editor/quickhelp_shim.js\r\n",
      "\u001b[32m[I 14:33:14 InstallContribNbextensionsApp]\u001b[m Up to date: /home/chris/.local/share/jupyter/nbextensions/keyboard_shortcut_editor/readme_shortcut_editor_blank.png\r\n",
      "\u001b[32m[I 14:33:14 InstallContribNbextensionsApp]\u001b[m Up to date: /home/chris/.local/share/jupyter/nbextensions/keyboard_shortcut_editor/readme_add_new_select_action.png\r\n",
      "\u001b[32m[I 14:33:14 InstallContribNbextensionsApp]\u001b[m Up to date: /home/chris/.local/share/jupyter/nbextensions/keyboard_shortcut_editor/readme_add_new_link.png\r\n",
      "\u001b[32m[I 14:33:14 InstallContribNbextensionsApp]\u001b[m - Validating: \u001b[32mOK\u001b[0m\r\n",
      "\u001b[32m[I 14:33:14 InstallContribNbextensionsApp]\u001b[m Installing /home/chris/dev/lightning_talk_args_kwargs_python_types/venv/lib/python3.10/site-packages/jupyter_contrib_nbextensions/nbextensions/equation-numbering -> equation-numbering\r\n",
      "\u001b[32m[I 14:33:14 InstallContribNbextensionsApp]\u001b[m Up to date: /home/chris/.local/share/jupyter/nbextensions/equation-numbering/main.js\r\n",
      "\u001b[32m[I 14:33:14 InstallContribNbextensionsApp]\u001b[m Up to date: /home/chris/.local/share/jupyter/nbextensions/equation-numbering/readme.md\r\n",
      "\u001b[32m[I 14:33:14 InstallContribNbextensionsApp]\u001b[m Up to date: /home/chris/.local/share/jupyter/nbextensions/equation-numbering/icon.png\r\n",
      "\u001b[32m[I 14:33:14 InstallContribNbextensionsApp]\u001b[m Up to date: /home/chris/.local/share/jupyter/nbextensions/equation-numbering/button.png\r\n",
      "\u001b[32m[I 14:33:14 InstallContribNbextensionsApp]\u001b[m Up to date: /home/chris/.local/share/jupyter/nbextensions/equation-numbering/info.yaml\r\n",
      "\u001b[32m[I 14:33:14 InstallContribNbextensionsApp]\u001b[m - Validating: \u001b[32mOK\u001b[0m\r\n",
      "\u001b[32m[I 14:33:14 InstallContribNbextensionsApp]\u001b[m Installing /home/chris/dev/lightning_talk_args_kwargs_python_types/venv/lib/python3.10/site-packages/jupyter_contrib_nbextensions/nbextensions/snippets -> snippets\r\n",
      "\u001b[32m[I 14:33:14 InstallContribNbextensionsApp]\u001b[m Up to date: /home/chris/.local/share/jupyter/nbextensions/snippets/snippets.json\r\n",
      "\u001b[32m[I 14:33:14 InstallContribNbextensionsApp]\u001b[m Up to date: /home/chris/.local/share/jupyter/nbextensions/snippets/snippets-demo.gif\r\n",
      "\u001b[32m[I 14:33:14 InstallContribNbextensionsApp]\u001b[m Up to date: /home/chris/.local/share/jupyter/nbextensions/snippets/README.md\r\n",
      "\u001b[32m[I 14:33:14 InstallContribNbextensionsApp]\u001b[m Up to date: /home/chris/.local/share/jupyter/nbextensions/snippets/main.js\r\n",
      "\u001b[32m[I 14:33:14 InstallContribNbextensionsApp]\u001b[m Up to date: /home/chris/.local/share/jupyter/nbextensions/snippets/snippets.yaml\r\n",
      "\u001b[32m[I 14:33:14 InstallContribNbextensionsApp]\u001b[m - Validating: \u001b[32mOK\u001b[0m\r\n",
      "\u001b[32m[I 14:33:14 InstallContribNbextensionsApp]\u001b[m Installing /home/chris/dev/lightning_talk_args_kwargs_python_types/venv/lib/python3.10/site-packages/jupyter_contrib_nbextensions/nbextensions/cell_filter -> cell_filter\r\n",
      "\u001b[32m[I 14:33:14 InstallContribNbextensionsApp]\u001b[m Up to date: /home/chris/.local/share/jupyter/nbextensions/cell_filter/README.md\r\n",
      "\u001b[32m[I 14:33:14 InstallContribNbextensionsApp]\u001b[m Up to date: /home/chris/.local/share/jupyter/nbextensions/cell_filter/cell_filter.js\r\n",
      "\u001b[32m[I 14:33:14 InstallContribNbextensionsApp]\u001b[m Up to date: /home/chris/.local/share/jupyter/nbextensions/cell_filter/cell_filter.yml\r\n",
      "\u001b[32m[I 14:33:14 InstallContribNbextensionsApp]\u001b[m - Validating: \u001b[32mOK\u001b[0m\r\n",
      "\u001b[32m[I 14:33:14 InstallContribNbextensionsApp]\u001b[m Installing /home/chris/dev/lightning_talk_args_kwargs_python_types/venv/lib/python3.10/site-packages/jupyter_contrib_nbextensions/nbextensions/highlighter -> highlighter\r\n",
      "\u001b[32m[I 14:33:14 InstallContribNbextensionsApp]\u001b[m Up to date: /home/chris/.local/share/jupyter/nbextensions/highlighter/export_highlights.ipynb\r\n",
      "\u001b[32m[I 14:33:14 InstallContribNbextensionsApp]\u001b[m Up to date: /home/chris/.local/share/jupyter/nbextensions/highlighter/export_highlights.tex\r\n",
      "\u001b[32m[I 14:33:14 InstallContribNbextensionsApp]\u001b[m Up to date: /home/chris/.local/share/jupyter/nbextensions/highlighter/highlighter.js\r\n",
      "\u001b[32m[I 14:33:14 InstallContribNbextensionsApp]\u001b[m Up to date: /home/chris/.local/share/jupyter/nbextensions/highlighter/highlighter.css\r\n",
      "\u001b[32m[I 14:33:14 InstallContribNbextensionsApp]\u001b[m Up to date: /home/chris/.local/share/jupyter/nbextensions/highlighter/readme.md\r\n",
      "\u001b[32m[I 14:33:14 InstallContribNbextensionsApp]\u001b[m Up to date: /home/chris/.local/share/jupyter/nbextensions/highlighter/tst_highlights.tex\r\n",
      "\u001b[32m[I 14:33:14 InstallContribNbextensionsApp]\u001b[m Up to date: /home/chris/.local/share/jupyter/nbextensions/highlighter/export_highlights.html\r\n",
      "\u001b[32m[I 14:33:14 InstallContribNbextensionsApp]\u001b[m Up to date: /home/chris/.local/share/jupyter/nbextensions/highlighter/demo_highlighter.html\r\n",
      "\u001b[32m[I 14:33:14 InstallContribNbextensionsApp]\u001b[m Up to date: /home/chris/.local/share/jupyter/nbextensions/highlighter/highlighter.yaml\r\n",
      "\u001b[32m[I 14:33:14 InstallContribNbextensionsApp]\u001b[m Up to date: /home/chris/.local/share/jupyter/nbextensions/highlighter/icon.png\r\n",
      "\u001b[32m[I 14:33:14 InstallContribNbextensionsApp]\u001b[m Up to date: /home/chris/.local/share/jupyter/nbextensions/highlighter/tst_highlights.pdf\r\n",
      "\u001b[32m[I 14:33:14 InstallContribNbextensionsApp]\u001b[m Up to date: /home/chris/.local/share/jupyter/nbextensions/highlighter/tst_highlights.html\r\n",
      "\u001b[32m[I 14:33:14 InstallContribNbextensionsApp]\u001b[m Up to date: /home/chris/.local/share/jupyter/nbextensions/highlighter/demo_highlighter.ipynb\r\n",
      "\u001b[32m[I 14:33:14 InstallContribNbextensionsApp]\u001b[m Up to date: /home/chris/.local/share/jupyter/nbextensions/highlighter/export_highlights.pdf\r\n",
      "\u001b[32m[I 14:33:14 InstallContribNbextensionsApp]\u001b[m Up to date: /home/chris/.local/share/jupyter/nbextensions/highlighter/image.gif\r\n",
      "\u001b[32m[I 14:33:14 InstallContribNbextensionsApp]\u001b[m Up to date: /home/chris/.local/share/jupyter/nbextensions/highlighter/tst_highlights.ipynb\r\n",
      "\u001b[32m[I 14:33:14 InstallContribNbextensionsApp]\u001b[m - Validating: \u001b[32mOK\u001b[0m\r\n",
      "\u001b[32m[I 14:33:14 InstallContribNbextensionsApp]\u001b[m Installing /home/chris/dev/lightning_talk_args_kwargs_python_types/venv/lib/python3.10/site-packages/jupyter_contrib_nbextensions/nbextensions/nbTranslate -> nbTranslate\r\n",
      "\u001b[32m[I 14:33:14 InstallContribNbextensionsApp]\u001b[m Up to date: /home/chris/.local/share/jupyter/nbextensions/nbTranslate/mutils.js\r\n",
      "\u001b[32m[I 14:33:14 InstallContribNbextensionsApp]\u001b[m Up to date: /home/chris/.local/share/jupyter/nbextensions/nbTranslate/README.md\r\n",
      "\u001b[32m[I 14:33:14 InstallContribNbextensionsApp]\u001b[m Up to date: /home/chris/.local/share/jupyter/nbextensions/nbTranslate/main.js\r\n",
      "\u001b[32m[I 14:33:14 InstallContribNbextensionsApp]\u001b[m Up to date: /home/chris/.local/share/jupyter/nbextensions/nbTranslate/languages.js\r\n",
      "\u001b[32m[I 14:33:14 InstallContribNbextensionsApp]\u001b[m Up to date: /home/chris/.local/share/jupyter/nbextensions/nbTranslate/demo1.gif\r\n",
      "\u001b[32m[I 14:33:14 InstallContribNbextensionsApp]\u001b[m Up to date: /home/chris/.local/share/jupyter/nbextensions/nbTranslate/nbTranslate.js\r\n",
      "\u001b[32m[I 14:33:14 InstallContribNbextensionsApp]\u001b[m Up to date: /home/chris/.local/share/jupyter/nbextensions/nbTranslate/demo2.gif\r\n",
      "\u001b[32m[I 14:33:14 InstallContribNbextensionsApp]\u001b[m Up to date: /home/chris/.local/share/jupyter/nbextensions/nbTranslate/nbTranslate.yaml\r\n",
      "\u001b[32m[I 14:33:14 InstallContribNbextensionsApp]\u001b[m - Validating: \u001b[32mOK\u001b[0m\r\n",
      "\u001b[32m[I 14:33:14 InstallContribNbextensionsApp]\u001b[m Installing /home/chris/dev/lightning_talk_args_kwargs_python_types/venv/lib/python3.10/site-packages/jupyter_contrib_nbextensions/nbextensions/execute_time -> execute_time\r\n",
      "\u001b[32m[I 14:33:14 InstallContribNbextensionsApp]\u001b[m Up to date: /home/chris/.local/share/jupyter/nbextensions/execute_time/execution-timings-menu.png\r\n",
      "\u001b[32m[I 14:33:14 InstallContribNbextensionsApp]\u001b[m Up to date: /home/chris/.local/share/jupyter/nbextensions/execute_time/ExecuteTime.yaml\r\n",
      "\u001b[32m[I 14:33:14 InstallContribNbextensionsApp]\u001b[m Up to date: /home/chris/.local/share/jupyter/nbextensions/execute_time/readme.md\r\n",
      "\u001b[32m[I 14:33:14 InstallContribNbextensionsApp]\u001b[m Up to date: /home/chris/.local/share/jupyter/nbextensions/execute_time/ExecuteTime.css\r\n",
      "\u001b[32m[I 14:33:14 InstallContribNbextensionsApp]\u001b[m Up to date: /home/chris/.local/share/jupyter/nbextensions/execute_time/ExecuteTime.js\r\n",
      "\u001b[32m[I 14:33:14 InstallContribNbextensionsApp]\u001b[m Up to date: /home/chris/.local/share/jupyter/nbextensions/execute_time/icon.png\r\n",
      "\u001b[32m[I 14:33:14 InstallContribNbextensionsApp]\u001b[m Up to date: /home/chris/.local/share/jupyter/nbextensions/execute_time/execution-timings-box.png\r\n",
      "\u001b[32m[I 14:33:14 InstallContribNbextensionsApp]\u001b[m - Validating: \u001b[32mOK\u001b[0m\r\n",
      "\u001b[32m[I 14:33:14 InstallContribNbextensionsApp]\u001b[m Installing /home/chris/dev/lightning_talk_args_kwargs_python_types/venv/lib/python3.10/site-packages/jupyter_contrib_nbextensions/nbextensions/exercise2 -> exercise2\r\n",
      "\u001b[32m[I 14:33:14 InstallContribNbextensionsApp]\u001b[m Up to date: /home/chris/.local/share/jupyter/nbextensions/exercise2/main.css\r\n",
      "\u001b[32m[I 14:33:14 InstallContribNbextensionsApp]\u001b[m Up to date: /home/chris/.local/share/jupyter/nbextensions/exercise2/main.js\r\n",
      "\u001b[32m[I 14:33:14 InstallContribNbextensionsApp]\u001b[m Up to date: /home/chris/.local/share/jupyter/nbextensions/exercise2/readme.md\r\n",
      "\u001b[32m[I 14:33:14 InstallContribNbextensionsApp]\u001b[m Up to date: /home/chris/.local/share/jupyter/nbextensions/exercise2/icon.png\r\n",
      "\u001b[32m[I 14:33:14 InstallContribNbextensionsApp]\u001b[m Up to date: /home/chris/.local/share/jupyter/nbextensions/exercise2/exercise2.yaml\r\n",
      "\u001b[32m[I 14:33:14 InstallContribNbextensionsApp]\u001b[m Up to date: /home/chris/.local/share/jupyter/nbextensions/exercise2/image.gif\r\n",
      "\u001b[32m[I 14:33:14 InstallContribNbextensionsApp]\u001b[m - Validating: \u001b[32mOK\u001b[0m\r\n",
      "\u001b[32m[I 14:33:14 InstallContribNbextensionsApp]\u001b[m Installing /home/chris/dev/lightning_talk_args_kwargs_python_types/venv/lib/python3.10/site-packages/jupyter_contrib_nbextensions/nbextensions/hide_input -> hide_input\r\n",
      "\u001b[32m[I 14:33:14 InstallContribNbextensionsApp]\u001b[m Up to date: /home/chris/.local/share/jupyter/nbextensions/hide_input/main.js\r\n",
      "\u001b[32m[I 14:33:14 InstallContribNbextensionsApp]\u001b[m Up to date: /home/chris/.local/share/jupyter/nbextensions/hide_input/readme.md\r\n",
      "\u001b[32m[I 14:33:14 InstallContribNbextensionsApp]\u001b[m Up to date: /home/chris/.local/share/jupyter/nbextensions/hide_input/icon.png\r\n",
      "\u001b[32m[I 14:33:14 InstallContribNbextensionsApp]\u001b[m Up to date: /home/chris/.local/share/jupyter/nbextensions/hide_input/hide-input.yaml\r\n",
      "\u001b[32m[I 14:33:14 InstallContribNbextensionsApp]\u001b[m - Validating: \u001b[32mOK\u001b[0m\r\n",
      "\u001b[32m[I 14:33:14 InstallContribNbextensionsApp]\u001b[m Installing /home/chris/dev/lightning_talk_args_kwargs_python_types/venv/lib/python3.10/site-packages/jupyter_contrib_nbextensions/nbextensions/runtools -> runtools\r\n",
      "\u001b[32m[I 14:33:14 InstallContribNbextensionsApp]\u001b[m Up to date: /home/chris/.local/share/jupyter/nbextensions/runtools/gutter.css\r\n",
      "\u001b[32m[I 14:33:14 InstallContribNbextensionsApp]\u001b[m Up to date: /home/chris/.local/share/jupyter/nbextensions/runtools/runtools_execute.png\r\n",
      "\u001b[32m[I 14:33:14 InstallContribNbextensionsApp]\u001b[m Up to date: /home/chris/.local/share/jupyter/nbextensions/runtools/runtools_marker.png\r\n",
      "\u001b[32m[I 14:33:14 InstallContribNbextensionsApp]\u001b[m Up to date: /home/chris/.local/share/jupyter/nbextensions/runtools/main.css\r\n",
      "\u001b[32m[I 14:33:14 InstallContribNbextensionsApp]\u001b[m Up to date: /home/chris/.local/share/jupyter/nbextensions/runtools/runtools_nb.png\r\n",
      "\u001b[32m[I 14:33:14 InstallContribNbextensionsApp]\u001b[m Up to date: /home/chris/.local/share/jupyter/nbextensions/runtools/main.js\r\n",
      "\u001b[32m[I 14:33:14 InstallContribNbextensionsApp]\u001b[m Up to date: /home/chris/.local/share/jupyter/nbextensions/runtools/readme.md\r\n",
      "\u001b[32m[I 14:33:14 InstallContribNbextensionsApp]\u001b[m Up to date: /home/chris/.local/share/jupyter/nbextensions/runtools/runtools_lock.png\r\n",
      "\u001b[32m[I 14:33:14 InstallContribNbextensionsApp]\u001b[m Up to date: /home/chris/.local/share/jupyter/nbextensions/runtools/runtools_show_hide.png\r\n",
      "\u001b[32m[I 14:33:14 InstallContribNbextensionsApp]\u001b[m Up to date: /home/chris/.local/share/jupyter/nbextensions/runtools/icon.png\r\n",
      "\u001b[32m[I 14:33:14 InstallContribNbextensionsApp]\u001b[m Up to date: /home/chris/.local/share/jupyter/nbextensions/runtools/demo.gif\r\n",
      "\u001b[32m[I 14:33:14 InstallContribNbextensionsApp]\u001b[m Up to date: /home/chris/.local/share/jupyter/nbextensions/runtools/cellstate.js\r\n",
      "\u001b[32m[I 14:33:14 InstallContribNbextensionsApp]\u001b[m Up to date: /home/chris/.local/share/jupyter/nbextensions/runtools/annotations.odg\r\n",
      "\u001b[32m[I 14:33:14 InstallContribNbextensionsApp]\u001b[m Up to date: /home/chris/.local/share/jupyter/nbextensions/runtools/runtools.yaml\r\n",
      "\u001b[32m[I 14:33:14 InstallContribNbextensionsApp]\u001b[m - Validating: \u001b[32mOK\u001b[0m\r\n",
      "\u001b[32m[I 14:33:14 InstallContribNbextensionsApp]\u001b[m Installing /home/chris/dev/lightning_talk_args_kwargs_python_types/venv/lib/python3.10/site-packages/jupyter_contrib_nbextensions/nbextensions/contrib_nbextensions_help_item -> contrib_nbextensions_help_item\r\n",
      "\u001b[32m[I 14:33:14 InstallContribNbextensionsApp]\u001b[m Up to date: /home/chris/.local/share/jupyter/nbextensions/contrib_nbextensions_help_item/README.md\r\n",
      "\u001b[32m[I 14:33:14 InstallContribNbextensionsApp]\u001b[m Up to date: /home/chris/.local/share/jupyter/nbextensions/contrib_nbextensions_help_item/main.js\r\n",
      "\u001b[32m[I 14:33:14 InstallContribNbextensionsApp]\u001b[m Up to date: /home/chris/.local/share/jupyter/nbextensions/contrib_nbextensions_help_item/contrib_nbextensions_help_item.yaml\r\n",
      "\u001b[32m[I 14:33:14 InstallContribNbextensionsApp]\u001b[m - Validating: \u001b[32mOK\u001b[0m\r\n",
      "\u001b[32m[I 14:33:14 InstallContribNbextensionsApp]\u001b[m Installing /home/chris/dev/lightning_talk_args_kwargs_python_types/venv/lib/python3.10/site-packages/jupyter_highlight_selected_word/static/highlight_selected_word -> highlight_selected_word\r\n",
      "\u001b[32m[I 14:33:14 InstallContribNbextensionsApp]\u001b[m Up to date: /home/chris/.local/share/jupyter/nbextensions/highlight_selected_word/README.md\r\n",
      "\u001b[32m[I 14:33:14 InstallContribNbextensionsApp]\u001b[m Up to date: /home/chris/.local/share/jupyter/nbextensions/highlight_selected_word/main.js\r\n",
      "\u001b[32m[I 14:33:14 InstallContribNbextensionsApp]\u001b[m Up to date: /home/chris/.local/share/jupyter/nbextensions/highlight_selected_word/configurator.yaml\r\n",
      "\u001b[32m[I 14:33:14 InstallContribNbextensionsApp]\u001b[m - Validating: \u001b[32mOK\u001b[0m\r\n",
      "\u001b[32m[I 14:33:14 InstallContribNbextensionsApp]\u001b[m Installing /home/chris/dev/lightning_talk_args_kwargs_python_types/venv/lib/python3.10/site-packages/latex_envs/static -> latex_envs\r\n",
      "\u001b[32m[I 14:33:14 InstallContribNbextensionsApp]\u001b[m Up to date: /home/chris/.local/share/jupyter/nbextensions/latex_envs/example.png\r\n",
      "\u001b[32m[I 14:33:14 InstallContribNbextensionsApp]\u001b[m Up to date: /home/chris/.local/share/jupyter/nbextensions/latex_envs/README.md\r\n",
      "\u001b[32m[I 14:33:14 InstallContribNbextensionsApp]\u001b[m Up to date: /home/chris/.local/share/jupyter/nbextensions/latex_envs/bibInNb4.js\r\n",
      "\u001b[32m[I 14:33:14 InstallContribNbextensionsApp]\u001b[m Up to date: /home/chris/.local/share/jupyter/nbextensions/latex_envs/envsLatex.js\r\n",
      "\u001b[32m[I 14:33:14 InstallContribNbextensionsApp]\u001b[m Up to date: /home/chris/.local/share/jupyter/nbextensions/latex_envs/latex_envs.js\r\n",
      "\u001b[32m[I 14:33:14 InstallContribNbextensionsApp]\u001b[m Up to date: /home/chris/.local/share/jupyter/nbextensions/latex_envs/envsLatex.json\r\n",
      "\u001b[32m[I 14:33:14 InstallContribNbextensionsApp]\u001b[m Up to date: /home/chris/.local/share/jupyter/nbextensions/latex_envs/configuration_toolbar.png\r\n",
      "\u001b[32m[I 14:33:14 InstallContribNbextensionsApp]\u001b[m Up to date: /home/chris/.local/share/jupyter/nbextensions/latex_envs/initNb.js\r\n",
      "\u001b[32m[I 14:33:14 InstallContribNbextensionsApp]\u001b[m Up to date: /home/chris/.local/share/jupyter/nbextensions/latex_envs/bibtex2.js\r\n",
      "\u001b[32m[I 14:33:14 InstallContribNbextensionsApp]\u001b[m Up to date: /home/chris/.local/share/jupyter/nbextensions/latex_envs/latex_envs.css\r\n",
      "\u001b[32m[I 14:33:14 InstallContribNbextensionsApp]\u001b[m Up to date: /home/chris/.local/share/jupyter/nbextensions/latex_envs/icon.png\r\n",
      "\u001b[32m[I 14:33:14 InstallContribNbextensionsApp]\u001b[m Up to date: /home/chris/.local/share/jupyter/nbextensions/latex_envs/thmsInNb4.js\r\n",
      "\u001b[32m[I 14:33:14 InstallContribNbextensionsApp]\u001b[m Up to date: /home/chris/.local/share/jupyter/nbextensions/latex_envs/example_user_envs.json\r\n",
      "\u001b[32m[I 14:33:14 InstallContribNbextensionsApp]\u001b[m Up to date: /home/chris/.local/share/jupyter/nbextensions/latex_envs/main_toolbar.png\r\n",
      "\u001b[32m[I 14:33:14 InstallContribNbextensionsApp]\u001b[m Up to date: /home/chris/.local/share/jupyter/nbextensions/latex_envs/latex_envs.yaml\r\n",
      "\u001b[32m[I 14:33:14 InstallContribNbextensionsApp]\u001b[m Up to date: /home/chris/.local/share/jupyter/nbextensions/latex_envs/doc/LaTeX_envs_menu.png\r\n",
      "\u001b[32m[I 14:33:14 InstallContribNbextensionsApp]\u001b[m Up to date: /home/chris/.local/share/jupyter/nbextensions/latex_envs/doc/example.png\r\n",
      "\u001b[32m[I 14:33:14 InstallContribNbextensionsApp]\u001b[m Up to date: /home/chris/.local/share/jupyter/nbextensions/latex_envs/doc/documentation.tex\r\n",
      "\u001b[32m[I 14:33:14 InstallContribNbextensionsApp]\u001b[m Up to date: /home/chris/.local/share/jupyter/nbextensions/latex_envs/doc/biblio_ipython.bib\r\n",
      "\u001b[32m[I 14:33:14 InstallContribNbextensionsApp]\u001b[m Up to date: /home/chris/.local/share/jupyter/nbextensions/latex_envs/doc/README.md\r\n",
      "\u001b[32m[I 14:33:14 InstallContribNbextensionsApp]\u001b[m Up to date: /home/chris/.local/share/jupyter/nbextensions/latex_envs/doc/latex_env_doc.ipynb\r\n",
      "\u001b[32m[I 14:33:14 InstallContribNbextensionsApp]\u001b[m Up to date: /home/chris/.local/share/jupyter/nbextensions/latex_envs/doc/config_toolbar.png\r\n",
      "\u001b[32m[I 14:33:14 InstallContribNbextensionsApp]\u001b[m Up to date: /home/chris/.local/share/jupyter/nbextensions/latex_envs/doc/header.tex\r\n",
      "\u001b[32m[I 14:33:14 InstallContribNbextensionsApp]\u001b[m Up to date: /home/chris/.local/share/jupyter/nbextensions/latex_envs/doc/configuration_toolbar.png\r\n",
      "\u001b[32m[I 14:33:14 InstallContribNbextensionsApp]\u001b[m Up to date: /home/chris/.local/share/jupyter/nbextensions/latex_envs/doc/Toggles.png\r\n",
      "\u001b[32m[I 14:33:14 InstallContribNbextensionsApp]\u001b[m Up to date: /home/chris/.local/share/jupyter/nbextensions/latex_envs/doc/latex_env_doc.tex\r\n",
      "\u001b[32m[I 14:33:14 InstallContribNbextensionsApp]\u001b[m Up to date: /home/chris/.local/share/jupyter/nbextensions/latex_envs/doc/main_toolbar.png\r\n",
      "\u001b[32m[I 14:33:14 InstallContribNbextensionsApp]\u001b[m Up to date: /home/chris/.local/share/jupyter/nbextensions/latex_envs/doc/IEEEtran.bst\r\n",
      "\u001b[32m[I 14:33:14 InstallContribNbextensionsApp]\u001b[m Up to date: /home/chris/.local/share/jupyter/nbextensions/latex_envs/doc/documentation.pdf\r\n",
      "\u001b[32m[I 14:33:14 InstallContribNbextensionsApp]\u001b[m Up to date: /home/chris/.local/share/jupyter/nbextensions/latex_envs/doc/latex_env_doc.html\r\n",
      "\u001b[32m[I 14:33:14 InstallContribNbextensionsApp]\u001b[m Up to date: /home/chris/.local/share/jupyter/nbextensions/latex_envs/doc/latex_env_doc_files/latex_env_doc_49_0.png\r\n"
     ]
    },
    {
     "name": "stdout",
     "output_type": "stream",
     "text": [
      "\u001b[32m[I 14:33:14 InstallContribNbextensionsApp]\u001b[m Up to date: /home/chris/.local/share/jupyter/nbextensions/latex_envs/doc/latex_env_doc_files/latex_env_doc_50_0.png\n",
      "\u001b[32m[I 14:33:14 InstallContribNbextensionsApp]\u001b[m Up to date: /home/chris/.local/share/jupyter/nbextensions/latex_envs/doc/latex_env_doc_files/latex_env_doc_51_0.png\n",
      "\u001b[32m[I 14:33:14 InstallContribNbextensionsApp]\u001b[m Up to date: /home/chris/.local/share/jupyter/nbextensions/latex_envs/doc/latex_env_doc_files/latex_env_doc_26_2.png\n",
      "\u001b[32m[I 14:33:14 InstallContribNbextensionsApp]\u001b[m Up to date: /home/chris/.local/share/jupyter/nbextensions/latex_envs/doc/latex_env_doc_files/latex_env_doc_41_0.png\n",
      "\u001b[32m[I 14:33:14 InstallContribNbextensionsApp]\u001b[m Up to date: /home/chris/.local/share/jupyter/nbextensions/latex_envs/doc/latex_env_doc_files/latex_env_doc_48_0.png\n",
      "\u001b[32m[I 14:33:14 InstallContribNbextensionsApp]\u001b[m Up to date: /home/chris/.local/share/jupyter/nbextensions/latex_envs/doc/latex_env_doc_files/latex_env_doc_43_0.png\n",
      "\u001b[32m[I 14:33:14 InstallContribNbextensionsApp]\u001b[m Up to date: /home/chris/.local/share/jupyter/nbextensions/latex_envs/doc/latex_env_doc_files/latex_env_doc_45_0.png\n",
      "\u001b[32m[I 14:33:14 InstallContribNbextensionsApp]\u001b[m Up to date: /home/chris/.local/share/jupyter/nbextensions/latex_envs/doc/latex_env_doc_files/latex_env_doc_44_0.png\n",
      "\u001b[32m[I 14:33:14 InstallContribNbextensionsApp]\u001b[m Up to date: /home/chris/.local/share/jupyter/nbextensions/latex_envs/doc/latex_env_doc_files/latex_env_doc_24_2.png\n",
      "\u001b[32m[I 14:33:14 InstallContribNbextensionsApp]\u001b[m Up to date: /home/chris/.local/share/jupyter/nbextensions/latex_envs/doc/latex_env_doc_files/latex_env_doc_47_0.png\n",
      "\u001b[32m[I 14:33:14 InstallContribNbextensionsApp]\u001b[m Up to date: /home/chris/.local/share/jupyter/nbextensions/latex_envs/doc/latex_env_doc_files/latex_env_doc_23_2.png\n",
      "\u001b[32m[I 14:33:14 InstallContribNbextensionsApp]\u001b[m Up to date: /home/chris/.local/share/jupyter/nbextensions/latex_envs/doc/latex_env_doc_files/latex_env_doc_46_0.png\n",
      "\u001b[32m[I 14:33:14 InstallContribNbextensionsApp]\u001b[m Up to date: /home/chris/.local/share/jupyter/nbextensions/latex_envs/doc/latex_env_doc_files/latex_env_doc_42_0.png\n",
      "\u001b[32m[I 14:33:14 InstallContribNbextensionsApp]\u001b[m Up to date: /home/chris/.local/share/jupyter/nbextensions/latex_envs/doc/latex_env_doc_files/latex_env_doc_52_0.png\n",
      "\u001b[32m[I 14:33:14 InstallContribNbextensionsApp]\u001b[m Up to date: /home/chris/.local/share/jupyter/nbextensions/latex_envs/doc/latex_env_doc_files/latex_env_doc_27_2.png\n",
      "\u001b[32m[I 14:33:14 InstallContribNbextensionsApp]\u001b[m Up to date: /home/chris/.local/share/jupyter/nbextensions/latex_envs/doc/.ipynb_checkpoints/latex_env_doc-checkpoint.ipynb\n",
      "\u001b[32m[I 14:33:14 InstallContribNbextensionsApp]\u001b[m - Validating: \u001b[32mOK\u001b[0m\n",
      "\u001b[32m[I 14:33:14 InstallContribNbextensionsApp]\u001b[m Installing jupyter_contrib_nbextensions items to config in /home/chris/.jupyter\n",
      "Enabling: jupyter_nbextensions_configurator\n",
      "- Writing config: /home/chris/.jupyter\n",
      "    - Validating...\n",
      "      jupyter_nbextensions_configurator 0.4.1 \u001b[32mOK\u001b[0m\n",
      "Enabling notebook nbextension nbextensions_configurator/config_menu/main...\n",
      "Enabling tree nbextension nbextensions_configurator/tree_tab/main...\n",
      "\u001b[32m[I 14:33:14 InstallContribNbextensionsApp]\u001b[m Enabling notebook extension contrib_nbextensions_help_item/main...\n",
      "\u001b[32m[I 14:33:14 InstallContribNbextensionsApp]\u001b[m       - Validating: \u001b[32mOK\u001b[0m\n",
      "\u001b[32m[I 14:33:14 InstallContribNbextensionsApp]\u001b[m - Editing config: /home/chris/.jupyter/jupyter_nbconvert_config.json\n",
      "\u001b[32m[I 14:33:14 InstallContribNbextensionsApp]\u001b[m --  Configuring nbconvert template path\n",
      "\u001b[32m[I 14:33:14 InstallContribNbextensionsApp]\u001b[m --  Configuring nbconvert preprocessors\n",
      "\u001b[32m[I 14:33:14 InstallContribNbextensionsApp]\u001b[m - Writing config: /home/chris/.jupyter/jupyter_nbconvert_config.json\n",
      "\u001b[32m[I 14:33:14 InstallContribNbextensionsApp]\u001b[m --  Writing updated config file /home/chris/.jupyter/jupyter_nbconvert_config.json\n",
      "Enabling: jupyter_nbextensions_configurator\n",
      "- Writing config: /home/chris/.jupyter\n",
      "    - Validating...\n",
      "      jupyter_nbextensions_configurator 0.4.1 \u001b[32mOK\u001b[0m\n",
      "Enabling notebook nbextension nbextensions_configurator/config_menu/main...\n",
      "Enabling tree nbextension nbextensions_configurator/tree_tab/main...\n"
     ]
    }
   ],
   "source": [
    "# enable configurator - required for RISE slide config and split cells\n",
    "!jupyter contrib nbextension install --user\n",
    "!jupyter nbextensions_configurator enable --user"
   ]
  },
  {
   "cell_type": "code",
   "execution_count": 2,
   "id": "f7c72ba6",
   "metadata": {
    "slideshow": {
     "slide_type": "skip"
    }
   },
   "outputs": [
    {
     "data": {
      "text/html": [
       "<style>.container { width:100% !important; }</style>"
      ],
      "text/plain": [
       "<IPython.core.display.HTML object>"
      ]
     },
     "metadata": {},
     "output_type": "display_data"
    },
    {
     "name": "stdout",
     "output_type": "stream",
     "text": [
      "remember to select View / Cell Toolbar / Slideshow to configure which cells show as slides\n"
     ]
    }
   ],
   "source": [
    "# configure wide notebook cells\n",
    "from IPython.display import display, HTML\n",
    "display(HTML(\"<style>.container { width:100% !important; }</style>\"))\n",
    "\n",
    "print(\"remember to select View / Cell Toolbar / Slideshow to configure which cells show as slides\")"
   ]
  },
  {
   "cell_type": "markdown",
   "id": "f99d5421",
   "metadata": {
    "slideshow": {
     "slide_type": "slide"
    }
   },
   "source": [
    "# Flexible Functions!\n",
    "<br><br>\n",
    "### quick refresh on function \\*args and \\*\\*kwargs\n",
    "\n",
    "<br><br>\n",
    "### SF Python - July 2022"
   ]
  },
  {
   "cell_type": "markdown",
   "id": "b4b74a23",
   "metadata": {
    "slideshow": {
     "slide_type": "slide"
    }
   },
   "source": [
    "# Who Am I?\n",
    "\n",
    "#### Chris Brousseau<br>\n",
    "#### IBM - Partner & Surface Owl - Founder\n",
    "#### Love Python - local communities + attended first PyCon in 2022/Salt Lake / once brought my team up mt. fuji\n",
    "<div class=\"row\">\n",
    " <div class=\"column\">\n",
    "   <img src=\"\" />\n",
    " </div>\n",
    " <div class=\"column\">\n",
    "   <img src=\"./images/daniel-hehn-NdkM92CRaxg-unsplash.jpg\" alt=\"mt_fuji\" width=\"600\" style=\"float: left; width: 30%; margin-right: 1%; margin-bottom: 0.5em;\"/>\n",
    " </div>\n",
    " <div class=\"column\">\n",
    "   <img src=\"./images/fuji.boots.png\" alt=\"chris_finishes_mt_fuji\" width=\"600\" style=\"float: left; width: 30%; margin-right: 1%; margin-bottom: 0.5em;\"/>\n",
    " </div>\n",
    "     <div class=\"column\">\n",
    "   <img src=\"./images/IMG_0134.jpg\" alt=\"chris_in_japan\" width=\"600\" style=\"float: left; width: 30%; margin-right: 1%; margin-bottom: 0.5em;\"/>\n",
    " </div>\n",
    "</div>\n",
    "<figcaption>Mt. Fuju - credit Usplash</figcaption>\n",
    "<p style=\"clear: both;\">\n",
    "\n"
   ]
  },
  {
   "cell_type": "markdown",
   "id": "edcb679f",
   "metadata": {
    "slideshow": {
     "slide_type": "slide"
    }
   },
   "source": [
    "# Why do I care? <br>\n",
    "\n",
    "-- <strong> \\*and \\**  are the python unpacking operators <br>\n",
    "\n",
    "-- Python functions accept two kinds of parameters -- positional, and keyworded <br>\n",
    "-- functions evaluate input starting from left -> right <br>\n",
    "-- args always have to be listed before kwargs <br><br>\n",
    "-- Most of the time - we are passing a fixed number of parameters <br>\n",
    "-- Sometimes we need to pass a varying number of parameters <br>\n",
    "-- ...and sometimes we don't know the number of parameters that will be passed <br><br>\n",
    "-- \\*args and \\*\\*kwargs can help simplify code / allow functions to accept varying numbers of inputs<br>"
   ]
  },
  {
   "cell_type": "markdown",
   "id": "17463693",
   "metadata": {
    "slideshow": {
     "slide_type": "slide"
    }
   },
   "source": [
    "# Positional Arguments\n",
    "\n",
    "-- defined by name only <br>\n",
    "-- values for positional arguments must be given  <br>\n",
    "-- e.g., <strong> def function_named(x, y, z):"
   ]
  },
  {
   "cell_type": "code",
   "execution_count": 17,
   "id": "757e9c28",
   "metadata": {
    "slideshow": {
     "slide_type": "slide"
    }
   },
   "outputs": [],
   "source": [
    "# typical function with fixed number of positional parameters"
   ]
  },
  {
   "cell_type": "code",
   "execution_count": 27,
   "id": "ad7ddbe2",
   "metadata": {
    "cell_style": "split",
    "slideshow": {
     "slide_type": "fragment"
    }
   },
   "outputs": [
    {
     "data": {
      "text/plain": [
       "15"
      ]
     },
     "execution_count": 27,
     "metadata": {},
     "output_type": "execute_result"
    }
   ],
   "source": [
    "# typical function\n",
    "\n",
    "def typical_add_numbers(number0: int, number1: int) -> int:\n",
    "    \"\"\"function with fixed number of positional inputs\"\"\"\n",
    "    return number0 + number1\n",
    "\n",
    "typical_add_numbers(5, 10)\n"
   ]
  },
  {
   "cell_type": "code",
   "execution_count": 28,
   "id": "195ee814",
   "metadata": {
    "cell_style": "split",
    "slideshow": {
     "slide_type": "fragment"
    }
   },
   "outputs": [
    {
     "name": "stdout",
     "output_type": "stream",
     "text": [
      "args is of type: <class 'tuple'>\n",
      "\n"
     ]
    },
    {
     "data": {
      "text/plain": [
       "5"
      ]
     },
     "execution_count": 28,
     "metadata": {},
     "output_type": "execute_result"
    }
   ],
   "source": [
    "# *args:  introducing variable number of arguments\n",
    "\n",
    "def variable_args_add_numbers(*args: int) -> int:\n",
    "    \"\"\"*args allows function to accept variable number of inputs\"\"\"\n",
    "    print(f\"args is of type: {type(args)}\\n\")\n",
    "    \n",
    "    return sum(args)\n",
    "\n",
    "variable_args_add_numbers(5)\n"
   ]
  },
  {
   "cell_type": "code",
   "execution_count": 29,
   "id": "ea437559",
   "metadata": {
    "cell_style": "split",
    "slideshow": {
     "slide_type": "fragment"
    }
   },
   "outputs": [
    {
     "data": {
      "text/plain": [
       "20"
      ]
     },
     "execution_count": 29,
     "metadata": {},
     "output_type": "execute_result"
    }
   ],
   "source": [
    "# you don't have to use the word \"args\"!\n",
    "# use any name that makes sense\n",
    "\n",
    "def variable_args_add_named_numbers(*user_integers: int) -> int:\n",
    "    \"\"\"*args allows function to accept variable number of inputs\"\"\"\n",
    "    \n",
    "    return sum(user_integers)\n",
    "\n",
    "variable_args_add_named_numbers(5, 5, 5, 5)\n"
   ]
  },
  {
   "cell_type": "markdown",
   "id": "3035edb2",
   "metadata": {
    "slideshow": {
     "slide_type": "slide"
    }
   },
   "source": [
    "# Keyword arguments\n",
    "\n",
    "-- defined by both name and default value <br>\n",
    "-- when a function is called, both name and values for keyword arguments must be given <br>\n",
    "-- e.g., <strong> def function_name(input1 = 0, input2 = 10, input_name = \"chris\"):"
   ]
  },
  {
   "cell_type": "code",
   "execution_count": 7,
   "id": "4fe63642",
   "metadata": {
    "slideshow": {
     "slide_type": "slide"
    }
   },
   "outputs": [],
   "source": [
    "# typical function using keyword arguments"
   ]
  },
  {
   "cell_type": "code",
   "execution_count": 30,
   "id": "acdc8153",
   "metadata": {
    "cell_style": "split",
    "slideshow": {
     "slide_type": "fragment"
    }
   },
   "outputs": [
    {
     "data": {
      "text/plain": [
       "25"
      ]
     },
     "execution_count": 30,
     "metadata": {},
     "output_type": "execute_result"
    }
   ],
   "source": [
    "# typical function -- keyword args\n",
    "\n",
    "def typical_kwarg_add_numbers(number0: int = 0, number1: int = 0) -> int:\n",
    "    \"\"\"function with fixed number of keyword arguments\n",
    "    note default value\"\"\"\n",
    "    return number0 + number1\n",
    "\n",
    "typical_kwarg_add_numbers(number0 = 15, number1 = 10)\n"
   ]
  },
  {
   "cell_type": "code",
   "execution_count": 31,
   "id": "4aeeb392",
   "metadata": {
    "cell_style": "split",
    "slideshow": {
     "slide_type": "fragment"
    }
   },
   "outputs": [
    {
     "name": "stdout",
     "output_type": "stream",
     "text": [
      "kwargs is of type: <class 'dict'>\n",
      "\n",
      "number0    5\n",
      "number1   10\n",
      "number2   20\n"
     ]
    },
    {
     "data": {
      "text/plain": [
       "35"
      ]
     },
     "execution_count": 31,
     "metadata": {},
     "output_type": "execute_result"
    }
   ],
   "source": [
    "# **kwargs intro\n",
    "def variable_kwargs_add_numbers(**kwargs: int) -> int:\n",
    "    \"\"\"**kwargs allows function to accept variable number of key = value inputs\n",
    "    NOTE - default values are not defined\"\"\"\n",
    "    print(f\"kwargs is of type: {type(kwargs)}\\n\")\n",
    "    \n",
    "    for key, value in kwargs.items():\n",
    "        print(f\"{key: >7}  {value: >3}\")\n",
    "    \n",
    "    return sum(kwargs.values())\n",
    "\n",
    "variable_kwargs_add_numbers(number0 = 5, number1 = 10, number2 = 20)"
   ]
  },
  {
   "cell_type": "code",
   "execution_count": 32,
   "id": "458d32d3",
   "metadata": {
    "cell_style": "split",
    "slideshow": {
     "slide_type": "fragment"
    }
   },
   "outputs": [
    {
     "name": "stdout",
     "output_type": "stream",
     "text": [
      "kwargs is a: <class 'dict'>\n",
      "\n",
      "number0    5\n",
      "number1   10\n",
      "number2    5\n"
     ]
    },
    {
     "data": {
      "text/plain": [
       "20"
      ]
     },
     "execution_count": 32,
     "metadata": {},
     "output_type": "execute_result"
    }
   ],
   "source": [
    "def variable_kwargs_add_named_numbers(**user_ints: int) -> int:\n",
    "    \"\"\"behold my clear and concise docstring\"\"\"\n",
    "    print(f\"kwargs is a: {type(user_ints)}\\n\")\n",
    "    for key, value in user_ints.items():\n",
    "        print(f\"{key: >3}  {value: >3}\")\n",
    "    \n",
    "    return sum(user_ints.values())\n",
    "\n",
    "variable_kwargs_add_named_numbers(number0 = 5, number1 = 10, number2 = 5)\n"
   ]
  },
  {
   "cell_type": "code",
   "execution_count": 35,
   "id": "98741865",
   "metadata": {
    "cell_style": "split",
    "slideshow": {
     "slide_type": "fragment"
    }
   },
   "outputs": [
    {
     "name": "stdout",
     "output_type": "stream",
     "text": [
      "kwargs is a: <class 'dict'>\n",
      "\n",
      "number0    5\n",
      "number100  100\n",
      "number101  200\n"
     ]
    },
    {
     "data": {
      "text/plain": [
       "305"
      ]
     },
     "execution_count": 35,
     "metadata": {},
     "output_type": "execute_result"
    }
   ],
   "source": [
    "# you can also pass in dictionaries as a kwarg, which is also unpacked\n",
    "\n",
    "sample_inputs = {\"number100\": 100, \"number101\": 200}\n",
    "\n",
    "variable_kwargs_add_named_numbers(number0 = 5, **sample_inputs)\n"
   ]
  },
  {
   "cell_type": "code",
   "execution_count": 36,
   "id": "de973404",
   "metadata": {
    "slideshow": {
     "slide_type": "slide"
    }
   },
   "outputs": [
    {
     "name": "stdout",
     "output_type": "stream",
     "text": [
      "number0=5\n",
      "number1=5\n",
      "arg=5\n",
      "arg=5\n",
      "arg=10\n",
      "arg=10\n",
      "name='chris'\n",
      "key='name2' value='sally'\n",
      "key='name3' value='lucas'\n"
     ]
    },
    {
     "data": {
      "text/plain": [
       "True"
      ]
     },
     "execution_count": 36,
     "metadata": {},
     "output_type": "execute_result"
    }
   ],
   "source": [
    "# combining what we've learned\n",
    "\n",
    "def complex_function_inputs(number0, number1, *args, name=\"chris\", **kwargs):\n",
    "    \"\"\"show all the things!\"\"\"\n",
    "    print(f\"{number0=}\")\n",
    "    print(f\"{number1=}\")\n",
    "    \n",
    "    for arg in args:\n",
    "        print(f\"{arg=}\")\n",
    "    \n",
    "    print(f\"{name=}\")\n",
    "    for key, value in kwargs.items():\n",
    "        print(f\"{key=} {value=}\")\n",
    "        \n",
    "    return True\n",
    "\n",
    "complex_function_inputs(5, 5, 5, 5, 10, 10, name=\"chris\", name2=\"sally\", name3=\"lucas\")\n"
   ]
  },
  {
   "cell_type": "code",
   "execution_count": 24,
   "id": "39bb1be1",
   "metadata": {
    "slideshow": {
     "slide_type": "slide"
    }
   },
   "outputs": [],
   "source": [
    "# Explicit is better than implicit"
   ]
  },
  {
   "cell_type": "code",
   "execution_count": 37,
   "id": "358f459b",
   "metadata": {
    "cell_style": "split",
    "slideshow": {
     "slide_type": "fragment"
    }
   },
   "outputs": [
    {
     "data": {
      "text/plain": [
       "15"
      ]
     },
     "execution_count": 37,
     "metadata": {},
     "output_type": "execute_result"
    }
   ],
   "source": [
    "def variable_args_add_named_numbers(*user_intput_ints: int) -> int:\n",
    "    \"\"\"simple example showing *args\n",
    "    *args allows function to accept variable number of inputs\"\"\"\n",
    "    \n",
    "    return sum(user_intput_ints)\n",
    "\n",
    "variable_args_add_named_numbers(5, 5, 5)\n"
   ]
  },
  {
   "cell_type": "code",
   "execution_count": 38,
   "id": "07700585",
   "metadata": {
    "cell_style": "split",
    "slideshow": {
     "slide_type": "fragment"
    }
   },
   "outputs": [
    {
     "data": {
      "text/plain": [
       "15"
      ]
     },
     "execution_count": 38,
     "metadata": {},
     "output_type": "execute_result"
    }
   ],
   "source": [
    "def variable_args_add_named_numbers(user_intput_ints: list) -> int:\n",
    "    \"\"\"simple example showing *args\n",
    "    *args allows function to accept variable number of inputs\"\"\"\n",
    "    \n",
    "    return sum(user_intput_ints)\n",
    "\n",
    "user_input_numbers = [5, 5, 5]\n",
    "variable_args_add_named_numbers(user_input_numbers)\n"
   ]
  },
  {
   "cell_type": "markdown",
   "id": "6fdec2f3",
   "metadata": {
    "slideshow": {
     "slide_type": "slide"
    }
   },
   "source": [
    "# When should I use *args and **kwargs?\n",
    "\n",
    "-- when you need them <br>\n",
    "-- decorators, when you don't know inputs and outputs (e.g., timer, logging, etc.) <br>"
   ]
  },
  {
   "cell_type": "code",
   "execution_count": 16,
   "id": "65dd9240",
   "metadata": {
    "slideshow": {
     "slide_type": "skip"
    }
   },
   "outputs": [],
   "source": [
    "# not discussed\n",
    "# Parameters listed before a slash in the parameter list are positional-only parameters just as parameters listed after a * on its own are keyword-only"
   ]
  },
  {
   "cell_type": "markdown",
   "id": "6ed8a49c",
   "metadata": {
    "slideshow": {
     "slide_type": "slide"
    }
   },
   "source": [
    "# key Take-Aways\n",
    "\n",
    "-- *args accepts any number of _positional arguments_<br>\n",
    "\n",
    "-- **kwargs accepts any number of _keyword arguments_<br>\n",
    "\n",
    "-- \\*args and \\*\\*kwargs can help simplify your code\n",
    "\n",
    "-- order is important:  *args must come *before* **kwargs<br>\n",
    "\n",
    "-- explicit is better than implicit, you might consider using lists and dicts as inputs"
   ]
  },
  {
   "cell_type": "markdown",
   "id": "e92b6c46",
   "metadata": {
    "slideshow": {
     "slide_type": "slide"
    }
   },
   "source": [
    "# references to consider\n",
    "[https://docs.python.org/3/reference/compound_stmts.html#function-definitions](https://docs.python.org/3/reference/compound_stmts.html#function-definitions)<br><br>\n",
    "[https://realpython.com/lessons/positional-only-arguments/](https://realpython.com/lessons/positional-only-arguments/) <br><br>\n",
    "[https://realpython.com/lessons/keyword-only-arguments/](https://realpython.com/lessons/keyword-only-arguments/) <br><br>\n",
    "[https://betterprogramming.pub/stop-abusing-args-and-kwargs-in-python-560ce6645e14](https://betterprogramming.pub/stop-abusing-args-and-kwargs-in-python-560ce6645e14) <br><br>\n",
    "[https://towardsdatascience.com/10-examples-to-master-args-and-kwargs-in-python-6f1e8cc30749](https://towardsdatascience.com/10-examples-to-master-args-and-kwargs-in-python-6f1e8cc30749) <br><br>\n",
    "\n",
    "# why not to use *args and **kwargs\n",
    "[https://betterprogramming.pub/stop-abusing-args-and-kwargs-in-python-560ce6645e14](https://betterprogramming.pub/stop-abusing-args-and-kwargs-in-python-560ce6645e14) <br>"
   ]
  },
  {
   "cell_type": "markdown",
   "id": "0f0dd237",
   "metadata": {
    "slideshow": {
     "slide_type": "slide"
    }
   },
   "source": [
    "# Thank You"
   ]
  }
 ],
 "metadata": {
  "celltoolbar": "Slideshow",
  "kernelspec": {
   "display_name": "Python 3 (ipykernel)",
   "language": "python",
   "name": "python3"
  },
  "language_info": {
   "codemirror_mode": {
    "name": "ipython",
    "version": 3
   },
   "file_extension": ".py",
   "mimetype": "text/x-python",
   "name": "python",
   "nbconvert_exporter": "python",
   "pygments_lexer": "ipython3",
   "version": "3.10.4"
  }
 },
 "nbformat": 4,
 "nbformat_minor": 5
}
